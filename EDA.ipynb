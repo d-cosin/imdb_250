{
 "cells": [
  {
   "cell_type": "markdown",
   "metadata": {},
   "source": [
    "# Import Relevant Libraries"
   ]
  },
  {
   "cell_type": "code",
   "execution_count": 48,
   "metadata": {},
   "outputs": [],
   "source": [
    "import pandas as pd\n",
    "import numpy as np\n",
    "import matplotlib.pyplot as plt\n",
    "import seaborn as sns\n",
    "import itertools"
   ]
  },
  {
   "cell_type": "markdown",
   "metadata": {},
   "source": [
    "# Helpers"
   ]
  },
  {
   "cell_type": "markdown",
   "metadata": {},
   "source": [
    "Here we define functions to be called throughout the Data Analysis in this notebook."
   ]
  },
  {
   "cell_type": "markdown",
   "metadata": {},
   "source": [
    "## Histogram"
   ]
  },
  {
   "cell_type": "code",
   "execution_count": 3,
   "metadata": {},
   "outputs": [],
   "source": [
    "def plot_histogram(x, bins, figsize=(8, 6)):\n",
    "#     fig = plt.figure(figsize=figsize)\n",
    "    fig, axs = plt.subplots(2, 1, figsize=figsize)\n",
    "    ax1 = axs[0]\n",
    "    ax2 = axs[1]\n",
    "    \n",
    "    ax1.hist(x.dropna(), bins=bins, edgecolor=\"k\", zorder=3)\n",
    "\n",
    "    y_max = ax1.get_ylim()[1]\n",
    "\n",
    "    ax1.vlines(x.median(), 0, y_max, \"r\", label=\"median = {:.2f}\".format(x.median()), zorder=4)\n",
    "    ax1.vlines(x.mean(), 0, y_max, \"y\", label=\"mean = {:.2f}\".format(x.mean()), zorder=4)\n",
    "    \n",
    "#     xticks = np.append(ax.get_xticks(), [x.median(), x.mean()])\n",
    "#     plt.xticks(xticks, rotation=\"vertical\")\n",
    "#     ax.get_xticklabels()[-2].set_color(\"red\")\n",
    "#     ax.get_xticklabels()[-1].set_color(\"green\")\n",
    "\n",
    "    # check if labels are overlapping\n",
    "    plt.gcf().canvas.draw()\n",
    "    ticks  = ax1.get_xticklabels()\n",
    "    last_tick = ticks[-1]\n",
    "    previous_last_tick = ticks[-2]\n",
    "    last_tick_x0 = last_tick.get_window_extent(renderer=fig.canvas.get_renderer()).x0\n",
    "    previous_last_tick_x1 = previous_last_tick.get_window_extent(renderer=fig.canvas.get_renderer()).x1\n",
    "    \n",
    "    if (last_tick_x0 - previous_last_tick_x1) <= 0:\n",
    "        plt.xticks(rotation=\"vertical\")\n",
    "\n",
    "    ax1.set_ylim(0, y_max)\n",
    "    ax1.grid(zorder=0)\n",
    "    ax1.legend()\n",
    "    \n",
    "    ax2.boxplot(x.dropna(), vert=False, zorder=3)\n",
    "    ax2.grid(zorder=0)"
   ]
  },
  {
   "cell_type": "markdown",
   "metadata": {},
   "source": [
    "## Combination Matrix"
   ]
  },
  {
   "cell_type": "code",
   "execution_count": 46,
   "metadata": {},
   "outputs": [],
   "source": [
    "def combination_matrix(df, column):\n",
    "    combinations = {}\n",
    "    for d in df.iterrows():\n",
    "        values_list = map(str.strip, map(str, d[1][column].strip(\"[]\").split(\",\")))\n",
    "        values_size = len(values_list)\n",
    "        if values_size > 1:\n",
    "            for idxs in itertools.permutations(range(values_size), 2):\n",
    "                try:\n",
    "                    combinations[values_list[idxs[0]], values_list[idxs[1]]] += 1\n",
    "                except KeyError:\n",
    "                    combinations[values_list[idxs[0]], values_list[idxs[1]]] = 1\n",
    "        else:\n",
    "            try:\n",
    "                combinations[values_list[0], values_list[0]] += 1\n",
    "            except KeyError:\n",
    "                combinations[values_list[0], values_list[0]] = 1\n",
    "    \n",
    "    return combinations"
   ]
  },
  {
   "cell_type": "markdown",
   "metadata": {},
   "source": [
    "## DataFrame from Multi-index Dict"
   ]
  },
  {
   "cell_type": "code",
   "execution_count": 41,
   "metadata": {},
   "outputs": [],
   "source": [
    "def df_from_multi_index_dict(d):\n",
    "    ser = pd.Series(list(d.values()),\n",
    "                  index=pd.MultiIndex.from_tuples(d.keys()))\n",
    "    df = ser.unstack().fillna(0)\n",
    "\n",
    "    return df"
   ]
  },
  {
   "cell_type": "markdown",
   "metadata": {},
   "source": [
    "## Combinations DataFrame"
   ]
  },
  {
   "cell_type": "code",
   "execution_count": 43,
   "metadata": {},
   "outputs": [],
   "source": [
    "def combinations_df(df, column):\n",
    "    combinations = combination_matrix(df, column)\n",
    "    df = df_from_multi_index_dict(combinations)\n",
    "    \n",
    "    return df"
   ]
  },
  {
   "cell_type": "markdown",
   "metadata": {},
   "source": [
    "# Load the Data"
   ]
  },
  {
   "cell_type": "code",
   "execution_count": 4,
   "metadata": {},
   "outputs": [],
   "source": [
    "df = pd.read_csv(\"imdb_top250.csv\", encoding=\"utf-8\")"
   ]
  },
  {
   "cell_type": "code",
   "execution_count": 5,
   "metadata": {},
   "outputs": [
    {
     "data": {
      "text/plain": [
       "(250, 13)"
      ]
     },
     "execution_count": 5,
     "metadata": {},
     "output_type": "execute_result"
    }
   ],
   "source": [
    "df.shape"
   ]
  },
  {
   "cell_type": "markdown",
   "metadata": {},
   "source": [
    "The data consists of 13 features of the best 250 IMDb movies. Bellow the features."
   ]
  },
  {
   "cell_type": "code",
   "execution_count": 6,
   "metadata": {},
   "outputs": [
    {
     "data": {
      "text/plain": [
       "Index([      u'Unnamed: 0',           u'budget',   u'classification',\n",
       "                u'country',            u'genre',      u'imdb_rating',\n",
       "       u'metacritic_score',     u'rating_count',          u'runtime',\n",
       "                  u'title',              u'url',      u'world_gross',\n",
       "                   u'year'],\n",
       "      dtype='object')"
      ]
     },
     "execution_count": 6,
     "metadata": {},
     "output_type": "execute_result"
    }
   ],
   "source": [
    "df.columns"
   ]
  },
  {
   "cell_type": "code",
   "execution_count": 7,
   "metadata": {},
   "outputs": [
    {
     "data": {
      "text/html": [
       "<div>\n",
       "<style scoped>\n",
       "    .dataframe tbody tr th:only-of-type {\n",
       "        vertical-align: middle;\n",
       "    }\n",
       "\n",
       "    .dataframe tbody tr th {\n",
       "        vertical-align: top;\n",
       "    }\n",
       "\n",
       "    .dataframe thead th {\n",
       "        text-align: right;\n",
       "    }\n",
       "</style>\n",
       "<table border=\"1\" class=\"dataframe\">\n",
       "  <thead>\n",
       "    <tr style=\"text-align: right;\">\n",
       "      <th></th>\n",
       "      <th>Unnamed: 0</th>\n",
       "      <th>budget</th>\n",
       "      <th>classification</th>\n",
       "      <th>country</th>\n",
       "      <th>genre</th>\n",
       "      <th>imdb_rating</th>\n",
       "      <th>metacritic_score</th>\n",
       "      <th>rating_count</th>\n",
       "      <th>runtime</th>\n",
       "      <th>title</th>\n",
       "      <th>url</th>\n",
       "      <th>world_gross</th>\n",
       "      <th>year</th>\n",
       "    </tr>\n",
       "  </thead>\n",
       "  <tbody>\n",
       "    <tr>\n",
       "      <th>0</th>\n",
       "      <td>The Shawshank Redemption</td>\n",
       "      <td>$25,000,000</td>\n",
       "      <td>R</td>\n",
       "      <td>[USA]</td>\n",
       "      <td>[Drama]</td>\n",
       "      <td>9.2</td>\n",
       "      <td>80.0</td>\n",
       "      <td>2,037,544</td>\n",
       "      <td>142 min</td>\n",
       "      <td>The Shawshank Redemption</td>\n",
       "      <td>/title/tt0111161/?pf_rd_m=A2FGELUUNOQJNL&amp;pf_rd...</td>\n",
       "      <td>$58,500,000</td>\n",
       "      <td>1994</td>\n",
       "    </tr>\n",
       "    <tr>\n",
       "      <th>1</th>\n",
       "      <td>The Godfather</td>\n",
       "      <td>$6,000,000</td>\n",
       "      <td>R</td>\n",
       "      <td>[USA]</td>\n",
       "      <td>[Crime, Drama]</td>\n",
       "      <td>9.2</td>\n",
       "      <td>100.0</td>\n",
       "      <td>1,397,431</td>\n",
       "      <td>175 min</td>\n",
       "      <td>The Godfather</td>\n",
       "      <td>/title/tt0068646/?pf_rd_m=A2FGELUUNOQJNL&amp;pf_rd...</td>\n",
       "      <td>$245,066,411</td>\n",
       "      <td>1972</td>\n",
       "    </tr>\n",
       "    <tr>\n",
       "      <th>2</th>\n",
       "      <td>The Godfather: Part II</td>\n",
       "      <td>$13,000,000</td>\n",
       "      <td>R</td>\n",
       "      <td>[USA]</td>\n",
       "      <td>[Crime, Drama]</td>\n",
       "      <td>9.0</td>\n",
       "      <td>90.0</td>\n",
       "      <td>968,577</td>\n",
       "      <td>202 min</td>\n",
       "      <td>The Godfather: Part II</td>\n",
       "      <td>/title/tt0071562/?pf_rd_m=A2FGELUUNOQJNL&amp;pf_rd...</td>\n",
       "      <td>NaN</td>\n",
       "      <td>1974</td>\n",
       "    </tr>\n",
       "    <tr>\n",
       "      <th>3</th>\n",
       "      <td>The Dark Knight</td>\n",
       "      <td>$185,000,000</td>\n",
       "      <td>PG-13</td>\n",
       "      <td>[USA, UK]</td>\n",
       "      <td>[Action, Crime, Drama]</td>\n",
       "      <td>9.0</td>\n",
       "      <td>84.0</td>\n",
       "      <td>2,005,343</td>\n",
       "      <td>152 min</td>\n",
       "      <td>The Dark Knight</td>\n",
       "      <td>/title/tt0468569/?pf_rd_m=A2FGELUUNOQJNL&amp;pf_rd...</td>\n",
       "      <td>$1,004,558,444,</td>\n",
       "      <td>2008</td>\n",
       "    </tr>\n",
       "    <tr>\n",
       "      <th>4</th>\n",
       "      <td>12 Angry Men</td>\n",
       "      <td>$350,000</td>\n",
       "      <td>Not R</td>\n",
       "      <td>[USA]</td>\n",
       "      <td>[Drama]</td>\n",
       "      <td>8.9</td>\n",
       "      <td>96.0</td>\n",
       "      <td>573,426</td>\n",
       "      <td>96 min</td>\n",
       "      <td>12 Angry Men</td>\n",
       "      <td>/title/tt0050083/?pf_rd_m=A2FGELUUNOQJNL&amp;pf_rd...</td>\n",
       "      <td>NaN</td>\n",
       "      <td>1957</td>\n",
       "    </tr>\n",
       "  </tbody>\n",
       "</table>\n",
       "</div>"
      ],
      "text/plain": [
       "                 Unnamed: 0        budget classification    country  \\\n",
       "0  The Shawshank Redemption   $25,000,000              R      [USA]   \n",
       "1             The Godfather    $6,000,000              R      [USA]   \n",
       "2    The Godfather: Part II   $13,000,000              R      [USA]   \n",
       "3           The Dark Knight  $185,000,000          PG-13  [USA, UK]   \n",
       "4              12 Angry Men      $350,000          Not R      [USA]   \n",
       "\n",
       "                    genre  imdb_rating  metacritic_score rating_count  \\\n",
       "0                 [Drama]          9.2              80.0    2,037,544   \n",
       "1          [Crime, Drama]          9.2             100.0    1,397,431   \n",
       "2          [Crime, Drama]          9.0              90.0      968,577   \n",
       "3  [Action, Crime, Drama]          9.0              84.0    2,005,343   \n",
       "4                 [Drama]          8.9              96.0      573,426   \n",
       "\n",
       "   runtime                     title  \\\n",
       "0  142 min  The Shawshank Redemption   \n",
       "1  175 min             The Godfather   \n",
       "2  202 min    The Godfather: Part II   \n",
       "3  152 min           The Dark Knight   \n",
       "4   96 min              12 Angry Men   \n",
       "\n",
       "                                                 url      world_gross  year  \n",
       "0  /title/tt0111161/?pf_rd_m=A2FGELUUNOQJNL&pf_rd...      $58,500,000  1994  \n",
       "1  /title/tt0068646/?pf_rd_m=A2FGELUUNOQJNL&pf_rd...     $245,066,411  1972  \n",
       "2  /title/tt0071562/?pf_rd_m=A2FGELUUNOQJNL&pf_rd...              NaN  1974  \n",
       "3  /title/tt0468569/?pf_rd_m=A2FGELUUNOQJNL&pf_rd...  $1,004,558,444,  2008  \n",
       "4  /title/tt0050083/?pf_rd_m=A2FGELUUNOQJNL&pf_rd...              NaN  1957  "
      ]
     },
     "execution_count": 7,
     "metadata": {},
     "output_type": "execute_result"
    }
   ],
   "source": [
    "df.head()"
   ]
  },
  {
   "cell_type": "markdown",
   "metadata": {},
   "source": [
    "Now let's check the features data types."
   ]
  },
  {
   "cell_type": "code",
   "execution_count": 8,
   "metadata": {},
   "outputs": [
    {
     "data": {
      "text/plain": [
       "Unnamed: 0           object\n",
       "budget               object\n",
       "classification       object\n",
       "country              object\n",
       "genre                object\n",
       "imdb_rating         float64\n",
       "metacritic_score    float64\n",
       "rating_count         object\n",
       "runtime              object\n",
       "title                object\n",
       "url                  object\n",
       "world_gross          object\n",
       "year                  int64\n",
       "dtype: object"
      ]
     },
     "execution_count": 8,
     "metadata": {},
     "output_type": "execute_result"
    }
   ],
   "source": [
    "df.dtypes"
   ]
  },
  {
   "cell_type": "markdown",
   "metadata": {},
   "source": [
    "Some features as *imdb_rating* and *metacritic_score* are already set to the correct data type. However some features as *rating_count* and *runtime* are not. Let's continue in our data pipeline but now in the Data Wrangling step."
   ]
  },
  {
   "cell_type": "markdown",
   "metadata": {},
   "source": [
    "# Data Wrangling"
   ]
  },
  {
   "cell_type": "markdown",
   "metadata": {},
   "source": [
    "## Runtime"
   ]
  },
  {
   "cell_type": "code",
   "execution_count": 9,
   "metadata": {},
   "outputs": [
    {
     "data": {
      "text/plain": [
       "0    142 min\n",
       "1    175 min\n",
       "2    202 min\n",
       "3    152 min\n",
       "4     96 min\n",
       "Name: runtime, dtype: object"
      ]
     },
     "execution_count": 9,
     "metadata": {},
     "output_type": "execute_result"
    }
   ],
   "source": [
    "df[\"runtime\"].head()"
   ]
  },
  {
   "cell_type": "markdown",
   "metadata": {},
   "source": [
    "### Remove *min*"
   ]
  },
  {
   "cell_type": "markdown",
   "metadata": {},
   "source": [
    "As we see, the *runtime* feature presents the unit *min* in the data. We don't need this information as we want to process this feature numerically. Thus, we are going to remove from the data the *min* and we are going to make implicit that the *runtime* unit is *minutes*."
   ]
  },
  {
   "cell_type": "code",
   "execution_count": 10,
   "metadata": {},
   "outputs": [
    {
     "name": "stderr",
     "output_type": "stream",
     "text": [
      "/usr/local/lib/python2.7/site-packages/ipykernel_launcher.py:1: FutureWarning: currently extract(expand=None) means expand=False (return Index/Series/DataFrame) but in a future version of pandas this will be changed to expand=True (return DataFrame)\n",
      "  \"\"\"Entry point for launching an IPython kernel.\n"
     ]
    }
   ],
   "source": [
    "df[\"runtime\"] = df[\"runtime\"].str.extract(\"(\\d+)\")"
   ]
  },
  {
   "cell_type": "code",
   "execution_count": 11,
   "metadata": {},
   "outputs": [
    {
     "data": {
      "text/plain": [
       "0    142\n",
       "1    175\n",
       "2    202\n",
       "3    152\n",
       "4     96\n",
       "Name: runtime, dtype: object"
      ]
     },
     "execution_count": 11,
     "metadata": {},
     "output_type": "execute_result"
    }
   ],
   "source": [
    "df[\"runtime\"].head()"
   ]
  },
  {
   "cell_type": "markdown",
   "metadata": {},
   "source": [
    "### Convert Data Type to int"
   ]
  },
  {
   "cell_type": "code",
   "execution_count": 12,
   "metadata": {},
   "outputs": [
    {
     "data": {
      "text/plain": [
       "1"
      ]
     },
     "execution_count": 12,
     "metadata": {},
     "output_type": "execute_result"
    }
   ],
   "source": [
    "sum(df[\"runtime\"].isna())"
   ]
  },
  {
   "cell_type": "markdown",
   "metadata": {},
   "source": [
    "There is one observation with no runtime information. Let's check it."
   ]
  },
  {
   "cell_type": "code",
   "execution_count": 13,
   "metadata": {},
   "outputs": [
    {
     "data": {
      "text/html": [
       "<div>\n",
       "<style scoped>\n",
       "    .dataframe tbody tr th:only-of-type {\n",
       "        vertical-align: middle;\n",
       "    }\n",
       "\n",
       "    .dataframe tbody tr th {\n",
       "        vertical-align: top;\n",
       "    }\n",
       "\n",
       "    .dataframe thead th {\n",
       "        text-align: right;\n",
       "    }\n",
       "</style>\n",
       "<table border=\"1\" class=\"dataframe\">\n",
       "  <thead>\n",
       "    <tr style=\"text-align: right;\">\n",
       "      <th></th>\n",
       "      <th>Unnamed: 0</th>\n",
       "      <th>budget</th>\n",
       "      <th>classification</th>\n",
       "      <th>country</th>\n",
       "      <th>genre</th>\n",
       "      <th>imdb_rating</th>\n",
       "      <th>metacritic_score</th>\n",
       "      <th>rating_count</th>\n",
       "      <th>runtime</th>\n",
       "      <th>title</th>\n",
       "      <th>url</th>\n",
       "      <th>world_gross</th>\n",
       "      <th>year</th>\n",
       "    </tr>\n",
       "  </thead>\n",
       "  <tbody>\n",
       "    <tr>\n",
       "      <th>70</th>\n",
       "      <td>Coco</td>\n",
       "      <td>$175,000,000</td>\n",
       "      <td>PG</td>\n",
       "      <td>[USA]</td>\n",
       "      <td>[Animation, Adventure, Comedy]</td>\n",
       "      <td>8.3</td>\n",
       "      <td>81.0</td>\n",
       "      <td>248,830</td>\n",
       "      <td>NaN</td>\n",
       "      <td>Coco</td>\n",
       "      <td>/title/tt2380307/?pf_rd_m=A2FGELUUNOQJNL&amp;pf_rd...</td>\n",
       "      <td>$807,082,196</td>\n",
       "      <td>2017</td>\n",
       "    </tr>\n",
       "  </tbody>\n",
       "</table>\n",
       "</div>"
      ],
      "text/plain": [
       "   Unnamed: 0        budget classification country  \\\n",
       "70       Coco  $175,000,000             PG   [USA]   \n",
       "\n",
       "                             genre  imdb_rating  metacritic_score  \\\n",
       "70  [Animation, Adventure, Comedy]          8.3              81.0   \n",
       "\n",
       "   rating_count runtime title  \\\n",
       "70      248,830     NaN  Coco   \n",
       "\n",
       "                                                  url   world_gross  year  \n",
       "70  /title/tt2380307/?pf_rd_m=A2FGELUUNOQJNL&pf_rd...  $807,082,196  2017  "
      ]
     },
     "execution_count": 13,
     "metadata": {},
     "output_type": "execute_result"
    }
   ],
   "source": [
    "df[df[\"runtime\"].isna()]"
   ]
  },
  {
   "cell_type": "markdown",
   "metadata": {},
   "source": [
    "This observations just misses the *runtime* value. Soon, we will not simply discard it as it may be important in other features analysis. However, if we try to convert a column that contains a NaN value to integer, pandas will throw an error. Thus, let's convert to float instead."
   ]
  },
  {
   "cell_type": "code",
   "execution_count": 14,
   "metadata": {},
   "outputs": [],
   "source": [
    "df[\"runtime\"] = df[\"runtime\"].astype(float)"
   ]
  },
  {
   "cell_type": "code",
   "execution_count": 15,
   "metadata": {},
   "outputs": [
    {
     "data": {
      "text/plain": [
       "0    142.0\n",
       "1    175.0\n",
       "2    202.0\n",
       "3    152.0\n",
       "4     96.0\n",
       "Name: runtime, dtype: float64"
      ]
     },
     "execution_count": 15,
     "metadata": {},
     "output_type": "execute_result"
    }
   ],
   "source": [
    "df[\"runtime\"].head()"
   ]
  },
  {
   "cell_type": "markdown",
   "metadata": {},
   "source": [
    "### Plotting the Distribution"
   ]
  },
  {
   "cell_type": "code",
   "execution_count": 16,
   "metadata": {},
   "outputs": [
    {
     "data": {
      "image/png": "[encoded data removed]",
      "text/plain": [
       "<Figure size 576x432 with 2 Axes>"
      ]
     },
     "metadata": {},
     "output_type": "display_data"
    }
   ],
   "source": [
    "plot_histogram(df[\"runtime\"], 25)"
   ]
  },
  {
   "cell_type": "markdown",
   "metadata": {},
   "source": [
    "Interestingly there is a movie with more than 5 hours length. Let's check it."
   ]
  },
  {
   "cell_type": "code",
   "execution_count": 17,
   "metadata": {},
   "outputs": [
    {
     "data": {
      "text/plain": [
       "Unnamed: 0                                       Gangues de Wasseypur\n",
       "budget                                                INR 184,000,000\n",
       "classification                                                  Not R\n",
       "country                                                       [India]\n",
       "genre                                         [Action, Comedy, Crime]\n",
       "imdb_rating                                                         8\n",
       "metacritic_score                                                   89\n",
       "rating_count                                                   66,786\n",
       "runtime                                                           321\n",
       "title                                            Gangues de Wasseypur\n",
       "url                 /title/tt1954470/?pf_rd_m=A2FGELUUNOQJNL&pf_rd...\n",
       "world_gross                                                       NaN\n",
       "year                                                             2012\n",
       "Name: 245, dtype: object"
      ]
     },
     "execution_count": 17,
     "metadata": {},
     "output_type": "execute_result"
    }
   ],
   "source": [
    "df.loc[df[\"runtime\"].idxmax()]"
   ]
  },
  {
   "cell_type": "markdown",
   "metadata": {},
   "source": [
    "## IMDb Rating"
   ]
  },
  {
   "cell_type": "markdown",
   "metadata": {},
   "source": [
    "### Distribution"
   ]
  },
  {
   "cell_type": "code",
   "execution_count": 18,
   "metadata": {},
   "outputs": [
    {
     "data": {
      "image/png": "[encoded data removed]",
      "text/plain": [
       "<Figure size 576x432 with 2 Axes>"
      ]
     },
     "metadata": {},
     "output_type": "display_data"
    }
   ],
   "source": [
    "plot_histogram(df[\"imdb_rating\"], 10)"
   ]
  },
  {
   "cell_type": "markdown",
   "metadata": {},
   "source": [
    "## Metacritic Score"
   ]
  },
  {
   "cell_type": "code",
   "execution_count": 19,
   "metadata": {},
   "outputs": [
    {
     "data": {
      "text/plain": [
       "0     80.0\n",
       "1    100.0\n",
       "2     90.0\n",
       "3     84.0\n",
       "4     96.0\n",
       "Name: metacritic_score, dtype: float64"
      ]
     },
     "execution_count": 19,
     "metadata": {},
     "output_type": "execute_result"
    }
   ],
   "source": [
    "df[\"metacritic_score\"].head()"
   ]
  },
  {
   "cell_type": "markdown",
   "metadata": {},
   "source": [
    "This feature is already in a suitable format for out data analysis."
   ]
  },
  {
   "cell_type": "markdown",
   "metadata": {},
   "source": [
    "### Checking Missing Values"
   ]
  },
  {
   "cell_type": "code",
   "execution_count": 20,
   "metadata": {},
   "outputs": [
    {
     "data": {
      "text/plain": [
       "46"
      ]
     },
     "execution_count": 20,
     "metadata": {},
     "output_type": "execute_result"
    }
   ],
   "source": [
    "sum(df[\"metacritic_score\"].isna())"
   ]
  },
  {
   "cell_type": "markdown",
   "metadata": {},
   "source": [
    "46 out of the 250 observations (18%) do not present value for the *metacritic_score* feature. Let's check them."
   ]
  },
  {
   "cell_type": "code",
   "execution_count": 21,
   "metadata": {},
   "outputs": [
    {
     "data": {
      "text/html": [
       "<div>\n",
       "<style scoped>\n",
       "    .dataframe tbody tr th:only-of-type {\n",
       "        vertical-align: middle;\n",
       "    }\n",
       "\n",
       "    .dataframe tbody tr th {\n",
       "        vertical-align: top;\n",
       "    }\n",
       "\n",
       "    .dataframe thead th {\n",
       "        text-align: right;\n",
       "    }\n",
       "</style>\n",
       "<table border=\"1\" class=\"dataframe\">\n",
       "  <thead>\n",
       "    <tr style=\"text-align: right;\">\n",
       "      <th></th>\n",
       "      <th>Unnamed: 0</th>\n",
       "      <th>budget</th>\n",
       "      <th>classification</th>\n",
       "      <th>country</th>\n",
       "      <th>genre</th>\n",
       "      <th>imdb_rating</th>\n",
       "      <th>metacritic_score</th>\n",
       "      <th>rating_count</th>\n",
       "      <th>runtime</th>\n",
       "      <th>title</th>\n",
       "      <th>url</th>\n",
       "      <th>world_gross</th>\n",
       "      <th>year</th>\n",
       "    </tr>\n",
       "  </thead>\n",
       "  <tbody>\n",
       "    <tr>\n",
       "      <th>34</th>\n",
       "      <td>City Lights</td>\n",
       "      <td>$1,500,000</td>\n",
       "      <td>G</td>\n",
       "      <td>[USA]</td>\n",
       "      <td>[Comedy, Drama, Romance]</td>\n",
       "      <td>8.5</td>\n",
       "      <td>NaN</td>\n",
       "      <td>141,605</td>\n",
       "      <td>87.0</td>\n",
       "      <td>City Lights</td>\n",
       "      <td>/title/tt0021749/?pf_rd_m=A2FGELUUNOQJNL&amp;pf_rd...</td>\n",
       "      <td>NaN</td>\n",
       "      <td>1931</td>\n",
       "    </tr>\n",
       "    <tr>\n",
       "      <th>53</th>\n",
       "      <td>The Great Dictator</td>\n",
       "      <td>$2,000,000</td>\n",
       "      <td>Passe</td>\n",
       "      <td>[USA]</td>\n",
       "      <td>[Comedy, Drama, War]</td>\n",
       "      <td>8.4</td>\n",
       "      <td>NaN</td>\n",
       "      <td>174,866</td>\n",
       "      <td>125.0</td>\n",
       "      <td>The Great Dictator</td>\n",
       "      <td>/title/tt0032553/?pf_rd_m=A2FGELUUNOQJNL&amp;pf_rd...</td>\n",
       "      <td>$11,000,000,</td>\n",
       "      <td>1940</td>\n",
       "    </tr>\n",
       "    <tr>\n",
       "      <th>54</th>\n",
       "      <td>Grave of the Fireflies</td>\n",
       "      <td>$3,700,000</td>\n",
       "      <td>Not R</td>\n",
       "      <td>[Japan]</td>\n",
       "      <td>[Animation, Drama, War]</td>\n",
       "      <td>8.4</td>\n",
       "      <td>NaN</td>\n",
       "      <td>188,247</td>\n",
       "      <td>89.0</td>\n",
       "      <td>Grave of the Fireflies</td>\n",
       "      <td>/title/tt0095327/?pf_rd_m=A2FGELUUNOQJNL&amp;pf_rd...</td>\n",
       "      <td>NaN</td>\n",
       "      <td>1988</td>\n",
       "    </tr>\n",
       "    <tr>\n",
       "      <th>55</th>\n",
       "      <td>Sunset Boulevard</td>\n",
       "      <td>$1,752,000</td>\n",
       "      <td>Not R</td>\n",
       "      <td>[USA]</td>\n",
       "      <td>[Drama, Film-Noir]</td>\n",
       "      <td>8.4</td>\n",
       "      <td>NaN</td>\n",
       "      <td>173,905</td>\n",
       "      <td>110.0</td>\n",
       "      <td>Sunset Boulevard</td>\n",
       "      <td>/title/tt0043014/?pf_rd_m=A2FGELUUNOQJNL&amp;pf_rd...</td>\n",
       "      <td>$5,303,175</td>\n",
       "      <td>1950</td>\n",
       "    </tr>\n",
       "    <tr>\n",
       "      <th>59</th>\n",
       "      <td>Paths of Glory</td>\n",
       "      <td>$935,000</td>\n",
       "      <td>Not R</td>\n",
       "      <td>[USA]</td>\n",
       "      <td>[Drama, War]</td>\n",
       "      <td>8.4</td>\n",
       "      <td>NaN</td>\n",
       "      <td>151,459</td>\n",
       "      <td>88.0</td>\n",
       "      <td>Paths of Glory</td>\n",
       "      <td>/title/tt0050825/?pf_rd_m=A2FGELUUNOQJNL&amp;pf_rd...</td>\n",
       "      <td>NaN</td>\n",
       "      <td>1957</td>\n",
       "    </tr>\n",
       "    <tr>\n",
       "      <th>64</th>\n",
       "      <td>Witness for the Prosecution</td>\n",
       "      <td>$3,000,000</td>\n",
       "      <td>Not R</td>\n",
       "      <td>[USA]</td>\n",
       "      <td>[Crime, Drama, Mystery]</td>\n",
       "      <td>8.4</td>\n",
       "      <td>NaN</td>\n",
       "      <td>88,172</td>\n",
       "      <td>116.0</td>\n",
       "      <td>Witness for the Prosecution</td>\n",
       "      <td>/title/tt0051201/?pf_rd_m=A2FGELUUNOQJNL&amp;pf_rd...</td>\n",
       "      <td>$16,350,000</td>\n",
       "      <td>1957</td>\n",
       "    </tr>\n",
       "    <tr>\n",
       "      <th>69</th>\n",
       "      <td>Once Upon a Time in America</td>\n",
       "      <td>$30,000,000</td>\n",
       "      <td>R</td>\n",
       "      <td>[USA, Italy]</td>\n",
       "      <td>[Crime, Drama]</td>\n",
       "      <td>8.3</td>\n",
       "      <td>NaN</td>\n",
       "      <td>269,420</td>\n",
       "      <td>229.0</td>\n",
       "      <td>Once Upon a Time in America</td>\n",
       "      <td>/title/tt0087843/?pf_rd_m=A2FGELUUNOQJNL&amp;pf_rd...</td>\n",
       "      <td>NaN</td>\n",
       "      <td>1984</td>\n",
       "    </tr>\n",
       "    <tr>\n",
       "      <th>79</th>\n",
       "      <td>M</td>\n",
       "      <td>NaN</td>\n",
       "      <td>Not R</td>\n",
       "      <td>[Germany]</td>\n",
       "      <td>[Crime, Mystery, Thriller]</td>\n",
       "      <td>8.3</td>\n",
       "      <td>NaN</td>\n",
       "      <td>123,851</td>\n",
       "      <td>117.0</td>\n",
       "      <td>M</td>\n",
       "      <td>/title/tt0022100/?pf_rd_m=A2FGELUUNOQJNL&amp;pf_rd...</td>\n",
       "      <td>NaN</td>\n",
       "      <td>1931</td>\n",
       "    </tr>\n",
       "    <tr>\n",
       "      <th>82</th>\n",
       "      <td>Dangal</td>\n",
       "      <td>INR 700,000,000</td>\n",
       "      <td>Not R</td>\n",
       "      <td>[India]</td>\n",
       "      <td>[Action, Biography, Drama]</td>\n",
       "      <td>8.3</td>\n",
       "      <td>NaN</td>\n",
       "      <td>112,982</td>\n",
       "      <td>161.0</td>\n",
       "      <td>Dangal</td>\n",
       "      <td>/title/tt5074352/?pf_rd_m=A2FGELUUNOQJNL&amp;pf_rd...</td>\n",
       "      <td>$310,000,000,</td>\n",
       "      <td>2016</td>\n",
       "    </tr>\n",
       "    <tr>\n",
       "      <th>83</th>\n",
       "      <td>Como Estrelas na Terra</td>\n",
       "      <td>NaN</td>\n",
       "      <td>PG</td>\n",
       "      <td>[India]</td>\n",
       "      <td>[Drama, Family]</td>\n",
       "      <td>8.3</td>\n",
       "      <td>NaN</td>\n",
       "      <td>134,886</td>\n",
       "      <td>165.0</td>\n",
       "      <td>Como Estrelas na Terra</td>\n",
       "      <td>/title/tt0986264/?pf_rd_m=A2FGELUUNOQJNL&amp;pf_rd...</td>\n",
       "      <td>$21,897,373</td>\n",
       "      <td>2007</td>\n",
       "    </tr>\n",
       "    <tr>\n",
       "      <th>97</th>\n",
       "      <td>Bicycle Thieves</td>\n",
       "      <td>$133,000</td>\n",
       "      <td>Not R</td>\n",
       "      <td>[Italy]</td>\n",
       "      <td>[Drama]</td>\n",
       "      <td>8.3</td>\n",
       "      <td>NaN</td>\n",
       "      <td>122,527</td>\n",
       "      <td>89.0</td>\n",
       "      <td>Bicycle Thieves</td>\n",
       "      <td>/title/tt0040522/?pf_rd_m=A2FGELUUNOQJNL&amp;pf_rd...</td>\n",
       "      <td>NaN</td>\n",
       "      <td>1948</td>\n",
       "    </tr>\n",
       "    <tr>\n",
       "      <th>98</th>\n",
       "      <td>The Kid</td>\n",
       "      <td>$250,000</td>\n",
       "      <td>Not R</td>\n",
       "      <td>[USA]</td>\n",
       "      <td>[Comedy, Drama, Family]</td>\n",
       "      <td>8.3</td>\n",
       "      <td>NaN</td>\n",
       "      <td>92,835</td>\n",
       "      <td>68.0</td>\n",
       "      <td>The Kid</td>\n",
       "      <td>/title/tt0012349/?pf_rd_m=A2FGELUUNOQJNL&amp;pf_rd...</td>\n",
       "      <td>NaN</td>\n",
       "      <td>1921</td>\n",
       "    </tr>\n",
       "    <tr>\n",
       "      <th>107</th>\n",
       "      <td>The Apartment</td>\n",
       "      <td>$3,000,000</td>\n",
       "      <td>Not R</td>\n",
       "      <td>[USA]</td>\n",
       "      <td>[Comedy, Drama, Romance]</td>\n",
       "      <td>8.2</td>\n",
       "      <td>NaN</td>\n",
       "      <td>139,158</td>\n",
       "      <td>125.0</td>\n",
       "      <td>The Apartment</td>\n",
       "      <td>/title/tt0053604/?pf_rd_m=A2FGELUUNOQJNL&amp;pf_rd...</td>\n",
       "      <td>$25,000,000,</td>\n",
       "      <td>1960</td>\n",
       "    </tr>\n",
       "    <tr>\n",
       "      <th>112</th>\n",
       "      <td>Rashomon</td>\n",
       "      <td>$250,000</td>\n",
       "      <td>Not R</td>\n",
       "      <td>[Japan]</td>\n",
       "      <td>[Crime, Drama, Mystery]</td>\n",
       "      <td>8.2</td>\n",
       "      <td>NaN</td>\n",
       "      <td>130,080</td>\n",
       "      <td>88.0</td>\n",
       "      <td>Rashomon</td>\n",
       "      <td>/title/tt0042876/?pf_rd_m=A2FGELUUNOQJNL&amp;pf_rd...</td>\n",
       "      <td>NaN</td>\n",
       "      <td>1950</td>\n",
       "    </tr>\n",
       "    <tr>\n",
       "      <th>113</th>\n",
       "      <td>Andhadhun</td>\n",
       "      <td>NaN</td>\n",
       "      <td>Not R</td>\n",
       "      <td>[India]</td>\n",
       "      <td>[Comedy, Crime, Thriller]</td>\n",
       "      <td>8.2</td>\n",
       "      <td>NaN</td>\n",
       "      <td>27,371</td>\n",
       "      <td>139.0</td>\n",
       "      <td>Andhadhun</td>\n",
       "      <td>/title/tt8108198/?pf_rd_m=A2FGELUUNOQJNL&amp;pf_rd...</td>\n",
       "      <td>NaN</td>\n",
       "      <td>2018</td>\n",
       "    </tr>\n",
       "    <tr>\n",
       "      <th>117</th>\n",
       "      <td>Yojimbo</td>\n",
       "      <td>NaN</td>\n",
       "      <td>Not R</td>\n",
       "      <td>[Japan]</td>\n",
       "      <td>[Action, Drama, Thriller]</td>\n",
       "      <td>8.2</td>\n",
       "      <td>NaN</td>\n",
       "      <td>94,190</td>\n",
       "      <td>110.0</td>\n",
       "      <td>Yojimbo</td>\n",
       "      <td>/title/tt0055630/?pf_rd_m=A2FGELUUNOQJNL&amp;pf_rd...</td>\n",
       "      <td>NaN</td>\n",
       "      <td>1961</td>\n",
       "    </tr>\n",
       "    <tr>\n",
       "      <th>124</th>\n",
       "      <td>Ikiru</td>\n",
       "      <td>NaN</td>\n",
       "      <td>Not R</td>\n",
       "      <td>[Japan]</td>\n",
       "      <td>[Drama]</td>\n",
       "      <td>8.2</td>\n",
       "      <td>NaN</td>\n",
       "      <td>57,010</td>\n",
       "      <td>143.0</td>\n",
       "      <td>Ikiru</td>\n",
       "      <td>/title/tt0044741/?pf_rd_m=A2FGELUUNOQJNL&amp;pf_rd...</td>\n",
       "      <td>NaN</td>\n",
       "      <td>1952</td>\n",
       "    </tr>\n",
       "    <tr>\n",
       "      <th>128</th>\n",
       "      <td>Children of Heaven</td>\n",
       "      <td>$180,000</td>\n",
       "      <td>PG</td>\n",
       "      <td>[Iran]</td>\n",
       "      <td>[Drama, Family]</td>\n",
       "      <td>8.2</td>\n",
       "      <td>NaN</td>\n",
       "      <td>49,228</td>\n",
       "      <td>89.0</td>\n",
       "      <td>Children of Heaven</td>\n",
       "      <td>/title/tt0118849/?pf_rd_m=A2FGELUUNOQJNL&amp;pf_rd...</td>\n",
       "      <td>NaN</td>\n",
       "      <td>1997</td>\n",
       "    </tr>\n",
       "    <tr>\n",
       "      <th>131</th>\n",
       "      <td>Meu Pai e Meu Filho</td>\n",
       "      <td>NaN</td>\n",
       "      <td>NaN</td>\n",
       "      <td>[Turkey]</td>\n",
       "      <td>[Drama, Family]</td>\n",
       "      <td>8.2</td>\n",
       "      <td>NaN</td>\n",
       "      <td>63,416</td>\n",
       "      <td>113.0</td>\n",
       "      <td>Meu Pai e Meu Filho</td>\n",
       "      <td>/title/tt0476735/?pf_rd_m=A2FGELUUNOQJNL&amp;pf_rd...</td>\n",
       "      <td>NaN</td>\n",
       "      <td>2005</td>\n",
       "    </tr>\n",
       "    <tr>\n",
       "      <th>139</th>\n",
       "      <td>The Gold Rush</td>\n",
       "      <td>$923,000</td>\n",
       "      <td>Not R</td>\n",
       "      <td>[USA]</td>\n",
       "      <td>[Adventure, Comedy, Drama]</td>\n",
       "      <td>8.2</td>\n",
       "      <td>NaN</td>\n",
       "      <td>87,256</td>\n",
       "      <td>95.0</td>\n",
       "      <td>The Gold Rush</td>\n",
       "      <td>/title/tt0015864/?pf_rd_m=A2FGELUUNOQJNL&amp;pf_rd...</td>\n",
       "      <td>NaN</td>\n",
       "      <td>1925</td>\n",
       "    </tr>\n",
       "    <tr>\n",
       "      <th>146</th>\n",
       "      <td>The Seventh Seal</td>\n",
       "      <td>$150,000</td>\n",
       "      <td>Not R</td>\n",
       "      <td>[Sweden]</td>\n",
       "      <td>[Drama, Fantasy]</td>\n",
       "      <td>8.2</td>\n",
       "      <td>NaN</td>\n",
       "      <td>139,674</td>\n",
       "      <td>96.0</td>\n",
       "      <td>The Seventh Seal</td>\n",
       "      <td>/title/tt0050976/?pf_rd_m=A2FGELUUNOQJNL&amp;pf_rd...</td>\n",
       "      <td>NaN</td>\n",
       "      <td>1957</td>\n",
       "    </tr>\n",
       "    <tr>\n",
       "      <th>155</th>\n",
       "      <td>Dial M for Murder</td>\n",
       "      <td>$1,400,000</td>\n",
       "      <td>PG</td>\n",
       "      <td>[USA]</td>\n",
       "      <td>[Crime, Thriller]</td>\n",
       "      <td>8.1</td>\n",
       "      <td>NaN</td>\n",
       "      <td>137,034</td>\n",
       "      <td>105.0</td>\n",
       "      <td>Dial M for Murder</td>\n",
       "      <td>/title/tt0046912/?pf_rd_m=A2FGELUUNOQJNL&amp;pf_rd...</td>\n",
       "      <td>$13,080,000,</td>\n",
       "      <td>1954</td>\n",
       "    </tr>\n",
       "    <tr>\n",
       "      <th>156</th>\n",
       "      <td>Wild Strawberries</td>\n",
       "      <td>NaN</td>\n",
       "      <td>Not R</td>\n",
       "      <td>[Sweden]</td>\n",
       "      <td>[Drama, Romance]</td>\n",
       "      <td>8.1</td>\n",
       "      <td>NaN</td>\n",
       "      <td>81,898</td>\n",
       "      <td>91.0</td>\n",
       "      <td>Wild Strawberries</td>\n",
       "      <td>/title/tt0050986/?pf_rd_m=A2FGELUUNOQJNL&amp;pf_rd...</td>\n",
       "      <td>NaN</td>\n",
       "      <td>1957</td>\n",
       "    </tr>\n",
       "    <tr>\n",
       "      <th>157</th>\n",
       "      <td>The General</td>\n",
       "      <td>$750,000</td>\n",
       "      <td>Passe</td>\n",
       "      <td>[USA]</td>\n",
       "      <td>[Action, Adventure, Comedy]</td>\n",
       "      <td>8.1</td>\n",
       "      <td>NaN</td>\n",
       "      <td>69,934</td>\n",
       "      <td>67.0</td>\n",
       "      <td>The General</td>\n",
       "      <td>/title/tt0017925/?pf_rd_m=A2FGELUUNOQJNL&amp;pf_rd...</td>\n",
       "      <td>NaN</td>\n",
       "      <td>1926</td>\n",
       "    </tr>\n",
       "    <tr>\n",
       "      <th>168</th>\n",
       "      <td>Come and See</td>\n",
       "      <td>NaN</td>\n",
       "      <td>Not R</td>\n",
       "      <td>[Soviet Union]</td>\n",
       "      <td>[Drama, War]</td>\n",
       "      <td>8.1</td>\n",
       "      <td>NaN</td>\n",
       "      <td>41,547</td>\n",
       "      <td>142.0</td>\n",
       "      <td>Come and See</td>\n",
       "      <td>/title/tt0091251/?pf_rd_m=A2FGELUUNOQJNL&amp;pf_rd...</td>\n",
       "      <td>NaN</td>\n",
       "      <td>1985</td>\n",
       "    </tr>\n",
       "    <tr>\n",
       "      <th>169</th>\n",
       "      <td>Sherlock Jr.</td>\n",
       "      <td>NaN</td>\n",
       "      <td>Not R</td>\n",
       "      <td>[USA]</td>\n",
       "      <td>[Action, Comedy, Romance]</td>\n",
       "      <td>8.1</td>\n",
       "      <td>NaN</td>\n",
       "      <td>31,306</td>\n",
       "      <td>45.0</td>\n",
       "      <td>Sherlock Jr.</td>\n",
       "      <td>/title/tt0015324/?pf_rd_m=A2FGELUUNOQJNL&amp;pf_rd...</td>\n",
       "      <td>NaN</td>\n",
       "      <td>1924</td>\n",
       "    </tr>\n",
       "    <tr>\n",
       "      <th>174</th>\n",
       "      <td>Rebecca</td>\n",
       "      <td>$1,288,000</td>\n",
       "      <td>Not R</td>\n",
       "      <td>[USA]</td>\n",
       "      <td>[Drama, Mystery, Romance]</td>\n",
       "      <td>8.1</td>\n",
       "      <td>NaN</td>\n",
       "      <td>108,443</td>\n",
       "      <td>130.0</td>\n",
       "      <td>Rebecca</td>\n",
       "      <td>/title/tt0032976/?pf_rd_m=A2FGELUUNOQJNL&amp;pf_rd...</td>\n",
       "      <td>$7,592,465</td>\n",
       "      <td>1940</td>\n",
       "    </tr>\n",
       "    <tr>\n",
       "      <th>175</th>\n",
       "      <td>Tokyo Story</td>\n",
       "      <td>NaN</td>\n",
       "      <td>Not R</td>\n",
       "      <td>[Japan]</td>\n",
       "      <td>[Drama]</td>\n",
       "      <td>8.1</td>\n",
       "      <td>NaN</td>\n",
       "      <td>42,079</td>\n",
       "      <td>136.0</td>\n",
       "      <td>Tokyo Story</td>\n",
       "      <td>/title/tt0046438/?pf_rd_m=A2FGELUUNOQJNL&amp;pf_rd...</td>\n",
       "      <td>NaN</td>\n",
       "      <td>1953</td>\n",
       "    </tr>\n",
       "    <tr>\n",
       "      <th>176</th>\n",
       "      <td>Mary e Max: Uma Amizade Diferente</td>\n",
       "      <td>AUD 8,240,000</td>\n",
       "      <td>Not R</td>\n",
       "      <td>[Australia]</td>\n",
       "      <td>[Animation, Comedy, Drama]</td>\n",
       "      <td>8.1</td>\n",
       "      <td>NaN</td>\n",
       "      <td>147,731</td>\n",
       "      <td>92.0</td>\n",
       "      <td>Mary e Max: Uma Amizade Diferente</td>\n",
       "      <td>/title/tt0978762/?pf_rd_m=A2FGELUUNOQJNL&amp;pf_rd...</td>\n",
       "      <td>$1,739,445</td>\n",
       "      <td>2009</td>\n",
       "    </tr>\n",
       "    <tr>\n",
       "      <th>180</th>\n",
       "      <td>Sunrise</td>\n",
       "      <td>NaN</td>\n",
       "      <td>Passe</td>\n",
       "      <td>[USA]</td>\n",
       "      <td>[Drama, Romance]</td>\n",
       "      <td>8.1</td>\n",
       "      <td>NaN</td>\n",
       "      <td>41,975</td>\n",
       "      <td>94.0</td>\n",
       "      <td>Sunrise</td>\n",
       "      <td>/title/tt0018455/?pf_rd_m=A2FGELUUNOQJNL&amp;pf_rd...</td>\n",
       "      <td>NaN</td>\n",
       "      <td>1927</td>\n",
       "    </tr>\n",
       "    <tr>\n",
       "      <th>191</th>\n",
       "      <td>Stalker</td>\n",
       "      <td>RUR 6,000,000</td>\n",
       "      <td>Not R</td>\n",
       "      <td>[Soviet Union]</td>\n",
       "      <td>[Drama, Sci-Fi]</td>\n",
       "      <td>8.1</td>\n",
       "      <td>NaN</td>\n",
       "      <td>94,315</td>\n",
       "      <td>162.0</td>\n",
       "      <td>Stalker</td>\n",
       "      <td>/title/tt0079944/?pf_rd_m=A2FGELUUNOQJNL&amp;pf_rd...</td>\n",
       "      <td>NaN</td>\n",
       "      <td>1979</td>\n",
       "    </tr>\n",
       "    <tr>\n",
       "      <th>192</th>\n",
       "      <td>The Bandit</td>\n",
       "      <td>TRL 1,200,000</td>\n",
       "      <td>NaN</td>\n",
       "      <td>[Turkey, France, Bulgaria]</td>\n",
       "      <td>[Crime, Drama, Thriller]</td>\n",
       "      <td>8.1</td>\n",
       "      <td>NaN</td>\n",
       "      <td>53,586</td>\n",
       "      <td>128.0</td>\n",
       "      <td>The Bandit</td>\n",
       "      <td>/title/tt0116231/?pf_rd_m=A2FGELUUNOQJNL&amp;pf_rd...</td>\n",
       "      <td>$1,979,000,</td>\n",
       "      <td>1996</td>\n",
       "    </tr>\n",
       "    <tr>\n",
       "      <th>195</th>\n",
       "      <td>Persona</td>\n",
       "      <td>NaN</td>\n",
       "      <td>Not R</td>\n",
       "      <td>[Sweden]</td>\n",
       "      <td>[Drama, Thriller]</td>\n",
       "      <td>8.1</td>\n",
       "      <td>NaN</td>\n",
       "      <td>84,066</td>\n",
       "      <td>85.0</td>\n",
       "      <td>Persona</td>\n",
       "      <td>/title/tt0060827/?pf_rd_m=A2FGELUUNOQJNL&amp;pf_rd...</td>\n",
       "      <td>NaN</td>\n",
       "      <td>1966</td>\n",
       "    </tr>\n",
       "    <tr>\n",
       "      <th>200</th>\n",
       "      <td>Andrei Rublev</td>\n",
       "      <td>RUR 1,000,000</td>\n",
       "      <td>R</td>\n",
       "      <td>[Soviet Union]</td>\n",
       "      <td>[Biography, Drama, History]</td>\n",
       "      <td>8.1</td>\n",
       "      <td>NaN</td>\n",
       "      <td>37,231</td>\n",
       "      <td>165.0</td>\n",
       "      <td>Andrei Rublev</td>\n",
       "      <td>/title/tt0060107/?pf_rd_m=A2FGELUUNOQJNL&amp;pf_rd...</td>\n",
       "      <td>NaN</td>\n",
       "      <td>1966</td>\n",
       "    </tr>\n",
       "    <tr>\n",
       "      <th>201</th>\n",
       "      <td>The Wages of Fear</td>\n",
       "      <td>NaN</td>\n",
       "      <td>Not R</td>\n",
       "      <td>[France, Italy]</td>\n",
       "      <td>[Adventure, Drama, Thriller]</td>\n",
       "      <td>8.1</td>\n",
       "      <td>NaN</td>\n",
       "      <td>47,019</td>\n",
       "      <td>131.0</td>\n",
       "      <td>The Wages of Fear</td>\n",
       "      <td>/title/tt0046268/?pf_rd_m=A2FGELUUNOQJNL&amp;pf_rd...</td>\n",
       "      <td>NaN</td>\n",
       "      <td>1953</td>\n",
       "    </tr>\n",
       "    <tr>\n",
       "      <th>204</th>\n",
       "      <td>The Passion of Joan of Arc</td>\n",
       "      <td>NaN</td>\n",
       "      <td>Not R</td>\n",
       "      <td>[France]</td>\n",
       "      <td>[Biography, Drama, History]</td>\n",
       "      <td>8.1</td>\n",
       "      <td>NaN</td>\n",
       "      <td>39,226</td>\n",
       "      <td>110.0</td>\n",
       "      <td>The Passion of Joan of Arc</td>\n",
       "      <td>/title/tt0019254/?pf_rd_m=A2FGELUUNOQJNL&amp;pf_rd...</td>\n",
       "      <td>NaN</td>\n",
       "      <td>1928</td>\n",
       "    </tr>\n",
       "    <tr>\n",
       "      <th>206</th>\n",
       "      <td>The 400 Blows</td>\n",
       "      <td>NaN</td>\n",
       "      <td>Not R</td>\n",
       "      <td>[France]</td>\n",
       "      <td>[Crime, Drama]</td>\n",
       "      <td>8.1</td>\n",
       "      <td>NaN</td>\n",
       "      <td>89,728</td>\n",
       "      <td>99.0</td>\n",
       "      <td>The 400 Blows</td>\n",
       "      <td>/title/tt0053198/?pf_rd_m=A2FGELUUNOQJNL&amp;pf_rd...</td>\n",
       "      <td>NaN</td>\n",
       "      <td>1959</td>\n",
       "    </tr>\n",
       "    <tr>\n",
       "      <th>208</th>\n",
       "      <td>Hachi: A Dog's Tale</td>\n",
       "      <td>$16,000,000</td>\n",
       "      <td>G</td>\n",
       "      <td>[UK, USA]</td>\n",
       "      <td>[Drama, Family]</td>\n",
       "      <td>8.1</td>\n",
       "      <td>NaN</td>\n",
       "      <td>216,151</td>\n",
       "      <td>93.0</td>\n",
       "      <td>Hachi: A Dog's Tale</td>\n",
       "      <td>/title/tt1028532/?pf_rd_m=A2FGELUUNOQJNL&amp;pf_rd...</td>\n",
       "      <td>$47,707,417</td>\n",
       "      <td>2009</td>\n",
       "    </tr>\n",
       "    <tr>\n",
       "      <th>212</th>\n",
       "      <td>Pinte de Açafrão</td>\n",
       "      <td>NaN</td>\n",
       "      <td>Not R</td>\n",
       "      <td>[India]</td>\n",
       "      <td>[Comedy, Drama]</td>\n",
       "      <td>8.1</td>\n",
       "      <td>NaN</td>\n",
       "      <td>97,943</td>\n",
       "      <td>157.0</td>\n",
       "      <td>Pinte de Açafrão</td>\n",
       "      <td>/title/tt0405508/?pf_rd_m=A2FGELUUNOQJNL&amp;pf_rd...</td>\n",
       "      <td>NaN</td>\n",
       "      <td>2006</td>\n",
       "    </tr>\n",
       "    <tr>\n",
       "      <th>219</th>\n",
       "      <td>Barry Lyndon</td>\n",
       "      <td>$11,000,000</td>\n",
       "      <td>PG</td>\n",
       "      <td>[UK, USA]</td>\n",
       "      <td>[Adventure, Drama, History]</td>\n",
       "      <td>8.0</td>\n",
       "      <td>NaN</td>\n",
       "      <td>128,658</td>\n",
       "      <td>185.0</td>\n",
       "      <td>Barry Lyndon</td>\n",
       "      <td>/title/tt0072684/?pf_rd_m=A2FGELUUNOQJNL&amp;pf_rd...</td>\n",
       "      <td>$31,500,000,</td>\n",
       "      <td>1975</td>\n",
       "    </tr>\n",
       "    <tr>\n",
       "      <th>228</th>\n",
       "      <td>Diabolique</td>\n",
       "      <td>NaN</td>\n",
       "      <td>Not R</td>\n",
       "      <td>[France]</td>\n",
       "      <td>[Crime, Drama, Horror]</td>\n",
       "      <td>8.0</td>\n",
       "      <td>NaN</td>\n",
       "      <td>55,121</td>\n",
       "      <td>117.0</td>\n",
       "      <td>Diabolique</td>\n",
       "      <td>/title/tt0046911/?pf_rd_m=A2FGELUUNOQJNL&amp;pf_rd...</td>\n",
       "      <td>NaN</td>\n",
       "      <td>1955</td>\n",
       "    </tr>\n",
       "    <tr>\n",
       "      <th>229</th>\n",
       "      <td>La Haine</td>\n",
       "      <td>€2,590,000</td>\n",
       "      <td>Not R</td>\n",
       "      <td>[France]</td>\n",
       "      <td>[Crime, Drama]</td>\n",
       "      <td>8.0</td>\n",
       "      <td>NaN</td>\n",
       "      <td>128,910</td>\n",
       "      <td>98.0</td>\n",
       "      <td>La Haine</td>\n",
       "      <td>/title/tt0113247/?pf_rd_m=A2FGELUUNOQJNL&amp;pf_rd...</td>\n",
       "      <td>NaN</td>\n",
       "      <td>1995</td>\n",
       "    </tr>\n",
       "    <tr>\n",
       "      <th>232</th>\n",
       "      <td>The Nights of Cabiria</td>\n",
       "      <td>NaN</td>\n",
       "      <td>Not R</td>\n",
       "      <td>[Italy, France]</td>\n",
       "      <td>[Drama]</td>\n",
       "      <td>8.0</td>\n",
       "      <td>NaN</td>\n",
       "      <td>37,564</td>\n",
       "      <td>110.0</td>\n",
       "      <td>The Nights of Cabiria</td>\n",
       "      <td>/title/tt0050783/?pf_rd_m=A2FGELUUNOQJNL&amp;pf_rd...</td>\n",
       "      <td>NaN</td>\n",
       "      <td>1957</td>\n",
       "    </tr>\n",
       "    <tr>\n",
       "      <th>237</th>\n",
       "      <td>Sanjuro</td>\n",
       "      <td>NaN</td>\n",
       "      <td>Not R</td>\n",
       "      <td>[Japan]</td>\n",
       "      <td>[Action, Crime, Drama]</td>\n",
       "      <td>8.0</td>\n",
       "      <td>NaN</td>\n",
       "      <td>26,611</td>\n",
       "      <td>96.0</td>\n",
       "      <td>Sanjuro</td>\n",
       "      <td>/title/tt0056443/?pf_rd_m=A2FGELUUNOQJNL&amp;pf_rd...</td>\n",
       "      <td>NaN</td>\n",
       "      <td>1962</td>\n",
       "    </tr>\n",
       "    <tr>\n",
       "      <th>240</th>\n",
       "      <td>A Chantagem</td>\n",
       "      <td>$9,400,000</td>\n",
       "      <td>Not R</td>\n",
       "      <td>[India]</td>\n",
       "      <td>[Crime, Drama, Thriller]</td>\n",
       "      <td>8.0</td>\n",
       "      <td>NaN</td>\n",
       "      <td>51,746</td>\n",
       "      <td>163.0</td>\n",
       "      <td>A Chantagem</td>\n",
       "      <td>/title/tt4430212/?pf_rd_m=A2FGELUUNOQJNL&amp;pf_rd...</td>\n",
       "      <td>NaN</td>\n",
       "      <td>2015</td>\n",
       "    </tr>\n",
       "    <tr>\n",
       "      <th>249</th>\n",
       "      <td>Akira</td>\n",
       "      <td>JPY 1,100,000,000</td>\n",
       "      <td>R</td>\n",
       "      <td>[Japan]</td>\n",
       "      <td>[Animation, Action, Drama]</td>\n",
       "      <td>8.0</td>\n",
       "      <td>NaN</td>\n",
       "      <td>133,830</td>\n",
       "      <td>124.0</td>\n",
       "      <td>Akira</td>\n",
       "      <td>/title/tt0094625/?pf_rd_m=A2FGELUUNOQJNL&amp;pf_rd...</td>\n",
       "      <td>$80,000,000</td>\n",
       "      <td>1988</td>\n",
       "    </tr>\n",
       "  </tbody>\n",
       "</table>\n",
       "</div>"
      ],
      "text/plain": [
       "                            Unnamed: 0             budget classification  \\\n",
       "34                         City Lights         $1,500,000              G   \n",
       "53                  The Great Dictator         $2,000,000          Passe   \n",
       "54              Grave of the Fireflies         $3,700,000          Not R   \n",
       "55                    Sunset Boulevard         $1,752,000          Not R   \n",
       "59                      Paths of Glory           $935,000          Not R   \n",
       "64         Witness for the Prosecution         $3,000,000          Not R   \n",
       "69         Once Upon a Time in America        $30,000,000              R   \n",
       "79                                   M                NaN          Not R   \n",
       "82                              Dangal    INR 700,000,000          Not R   \n",
       "83              Como Estrelas na Terra                NaN             PG   \n",
       "97                     Bicycle Thieves           $133,000          Not R   \n",
       "98                             The Kid           $250,000          Not R   \n",
       "107                      The Apartment         $3,000,000          Not R   \n",
       "112                           Rashomon           $250,000          Not R   \n",
       "113                          Andhadhun                NaN          Not R   \n",
       "117                            Yojimbo                NaN          Not R   \n",
       "124                              Ikiru                NaN          Not R   \n",
       "128                 Children of Heaven           $180,000             PG   \n",
       "131                Meu Pai e Meu Filho                NaN            NaN   \n",
       "139                      The Gold Rush           $923,000          Not R   \n",
       "146                   The Seventh Seal           $150,000          Not R   \n",
       "155                  Dial M for Murder         $1,400,000             PG   \n",
       "156                  Wild Strawberries                NaN          Not R   \n",
       "157                        The General           $750,000          Passe   \n",
       "168                       Come and See                NaN          Not R   \n",
       "169                       Sherlock Jr.                NaN          Not R   \n",
       "174                            Rebecca         $1,288,000          Not R   \n",
       "175                        Tokyo Story                NaN          Not R   \n",
       "176  Mary e Max: Uma Amizade Diferente      AUD 8,240,000          Not R   \n",
       "180                            Sunrise                NaN          Passe   \n",
       "191                            Stalker      RUR 6,000,000          Not R   \n",
       "192                         The Bandit      TRL 1,200,000            NaN   \n",
       "195                            Persona                NaN          Not R   \n",
       "200                      Andrei Rublev      RUR 1,000,000              R   \n",
       "201                  The Wages of Fear                NaN          Not R   \n",
       "204         The Passion of Joan of Arc                NaN          Not R   \n",
       "206                      The 400 Blows                NaN          Not R   \n",
       "208                Hachi: A Dog's Tale        $16,000,000              G   \n",
       "212                   Pinte de Açafrão                NaN          Not R   \n",
       "219                       Barry Lyndon        $11,000,000             PG   \n",
       "228                         Diabolique                NaN          Not R   \n",
       "229                           La Haine         €2,590,000          Not R   \n",
       "232              The Nights of Cabiria                NaN          Not R   \n",
       "237                            Sanjuro                NaN          Not R   \n",
       "240                        A Chantagem         $9,400,000          Not R   \n",
       "249                              Akira  JPY 1,100,000,000              R   \n",
       "\n",
       "                        country                         genre  imdb_rating  \\\n",
       "34                        [USA]      [Comedy, Drama, Romance]          8.5   \n",
       "53                        [USA]          [Comedy, Drama, War]          8.4   \n",
       "54                      [Japan]       [Animation, Drama, War]          8.4   \n",
       "55                        [USA]            [Drama, Film-Noir]          8.4   \n",
       "59                        [USA]                  [Drama, War]          8.4   \n",
       "64                        [USA]       [Crime, Drama, Mystery]          8.4   \n",
       "69                 [USA, Italy]                [Crime, Drama]          8.3   \n",
       "79                    [Germany]    [Crime, Mystery, Thriller]          8.3   \n",
       "82                      [India]    [Action, Biography, Drama]          8.3   \n",
       "83                      [India]               [Drama, Family]          8.3   \n",
       "97                      [Italy]                       [Drama]          8.3   \n",
       "98                        [USA]       [Comedy, Drama, Family]          8.3   \n",
       "107                       [USA]      [Comedy, Drama, Romance]          8.2   \n",
       "112                     [Japan]       [Crime, Drama, Mystery]          8.2   \n",
       "113                     [India]     [Comedy, Crime, Thriller]          8.2   \n",
       "117                     [Japan]     [Action, Drama, Thriller]          8.2   \n",
       "124                     [Japan]                       [Drama]          8.2   \n",
       "128                      [Iran]               [Drama, Family]          8.2   \n",
       "131                    [Turkey]               [Drama, Family]          8.2   \n",
       "139                       [USA]    [Adventure, Comedy, Drama]          8.2   \n",
       "146                    [Sweden]              [Drama, Fantasy]          8.2   \n",
       "155                       [USA]             [Crime, Thriller]          8.1   \n",
       "156                    [Sweden]              [Drama, Romance]          8.1   \n",
       "157                       [USA]   [Action, Adventure, Comedy]          8.1   \n",
       "168              [Soviet Union]                  [Drama, War]          8.1   \n",
       "169                       [USA]     [Action, Comedy, Romance]          8.1   \n",
       "174                       [USA]     [Drama, Mystery, Romance]          8.1   \n",
       "175                     [Japan]                       [Drama]          8.1   \n",
       "176                 [Australia]    [Animation, Comedy, Drama]          8.1   \n",
       "180                       [USA]              [Drama, Romance]          8.1   \n",
       "191              [Soviet Union]               [Drama, Sci-Fi]          8.1   \n",
       "192  [Turkey, France, Bulgaria]      [Crime, Drama, Thriller]          8.1   \n",
       "195                    [Sweden]             [Drama, Thriller]          8.1   \n",
       "200              [Soviet Union]   [Biography, Drama, History]          8.1   \n",
       "201             [France, Italy]  [Adventure, Drama, Thriller]          8.1   \n",
       "204                    [France]   [Biography, Drama, History]          8.1   \n",
       "206                    [France]                [Crime, Drama]          8.1   \n",
       "208                   [UK, USA]               [Drama, Family]          8.1   \n",
       "212                     [India]               [Comedy, Drama]          8.1   \n",
       "219                   [UK, USA]   [Adventure, Drama, History]          8.0   \n",
       "228                    [France]        [Crime, Drama, Horror]          8.0   \n",
       "229                    [France]                [Crime, Drama]          8.0   \n",
       "232             [Italy, France]                       [Drama]          8.0   \n",
       "237                     [Japan]        [Action, Crime, Drama]          8.0   \n",
       "240                     [India]      [Crime, Drama, Thriller]          8.0   \n",
       "249                     [Japan]    [Animation, Action, Drama]          8.0   \n",
       "\n",
       "     metacritic_score rating_count  runtime  \\\n",
       "34                NaN      141,605     87.0   \n",
       "53                NaN      174,866    125.0   \n",
       "54                NaN      188,247     89.0   \n",
       "55                NaN      173,905    110.0   \n",
       "59                NaN      151,459     88.0   \n",
       "64                NaN       88,172    116.0   \n",
       "69                NaN      269,420    229.0   \n",
       "79                NaN      123,851    117.0   \n",
       "82                NaN      112,982    161.0   \n",
       "83                NaN      134,886    165.0   \n",
       "97                NaN      122,527     89.0   \n",
       "98                NaN       92,835     68.0   \n",
       "107               NaN      139,158    125.0   \n",
       "112               NaN      130,080     88.0   \n",
       "113               NaN       27,371    139.0   \n",
       "117               NaN       94,190    110.0   \n",
       "124               NaN       57,010    143.0   \n",
       "128               NaN       49,228     89.0   \n",
       "131               NaN       63,416    113.0   \n",
       "139               NaN       87,256     95.0   \n",
       "146               NaN      139,674     96.0   \n",
       "155               NaN      137,034    105.0   \n",
       "156               NaN       81,898     91.0   \n",
       "157               NaN       69,934     67.0   \n",
       "168               NaN       41,547    142.0   \n",
       "169               NaN       31,306     45.0   \n",
       "174               NaN      108,443    130.0   \n",
       "175               NaN       42,079    136.0   \n",
       "176               NaN      147,731     92.0   \n",
       "180               NaN       41,975     94.0   \n",
       "191               NaN       94,315    162.0   \n",
       "192               NaN       53,586    128.0   \n",
       "195               NaN       84,066     85.0   \n",
       "200               NaN       37,231    165.0   \n",
       "201               NaN       47,019    131.0   \n",
       "204               NaN       39,226    110.0   \n",
       "206               NaN       89,728     99.0   \n",
       "208               NaN      216,151     93.0   \n",
       "212               NaN       97,943    157.0   \n",
       "219               NaN      128,658    185.0   \n",
       "228               NaN       55,121    117.0   \n",
       "229               NaN      128,910     98.0   \n",
       "232               NaN       37,564    110.0   \n",
       "237               NaN       26,611     96.0   \n",
       "240               NaN       51,746    163.0   \n",
       "249               NaN      133,830    124.0   \n",
       "\n",
       "                                 title  \\\n",
       "34                         City Lights   \n",
       "53                  The Great Dictator   \n",
       "54              Grave of the Fireflies   \n",
       "55                    Sunset Boulevard   \n",
       "59                      Paths of Glory   \n",
       "64         Witness for the Prosecution   \n",
       "69         Once Upon a Time in America   \n",
       "79                                   M   \n",
       "82                              Dangal   \n",
       "83              Como Estrelas na Terra   \n",
       "97                     Bicycle Thieves   \n",
       "98                             The Kid   \n",
       "107                      The Apartment   \n",
       "112                           Rashomon   \n",
       "113                          Andhadhun   \n",
       "117                            Yojimbo   \n",
       "124                              Ikiru   \n",
       "128                 Children of Heaven   \n",
       "131                Meu Pai e Meu Filho   \n",
       "139                      The Gold Rush   \n",
       "146                   The Seventh Seal   \n",
       "155                  Dial M for Murder   \n",
       "156                  Wild Strawberries   \n",
       "157                        The General   \n",
       "168                       Come and See   \n",
       "169                       Sherlock Jr.   \n",
       "174                            Rebecca   \n",
       "175                        Tokyo Story   \n",
       "176  Mary e Max: Uma Amizade Diferente   \n",
       "180                            Sunrise   \n",
       "191                            Stalker   \n",
       "192                         The Bandit   \n",
       "195                            Persona   \n",
       "200                      Andrei Rublev   \n",
       "201                  The Wages of Fear   \n",
       "204         The Passion of Joan of Arc   \n",
       "206                      The 400 Blows   \n",
       "208                Hachi: A Dog's Tale   \n",
       "212                   Pinte de Açafrão   \n",
       "219                       Barry Lyndon   \n",
       "228                         Diabolique   \n",
       "229                           La Haine   \n",
       "232              The Nights of Cabiria   \n",
       "237                            Sanjuro   \n",
       "240                        A Chantagem   \n",
       "249                              Akira   \n",
       "\n",
       "                                                   url    world_gross  year  \n",
       "34   /title/tt0021749/?pf_rd_m=A2FGELUUNOQJNL&pf_rd...            NaN  1931  \n",
       "53   /title/tt0032553/?pf_rd_m=A2FGELUUNOQJNL&pf_rd...   $11,000,000,  1940  \n",
       "54   /title/tt0095327/?pf_rd_m=A2FGELUUNOQJNL&pf_rd...            NaN  1988  \n",
       "55   /title/tt0043014/?pf_rd_m=A2FGELUUNOQJNL&pf_rd...     $5,303,175  1950  \n",
       "59   /title/tt0050825/?pf_rd_m=A2FGELUUNOQJNL&pf_rd...            NaN  1957  \n",
       "64   /title/tt0051201/?pf_rd_m=A2FGELUUNOQJNL&pf_rd...    $16,350,000  1957  \n",
       "69   /title/tt0087843/?pf_rd_m=A2FGELUUNOQJNL&pf_rd...            NaN  1984  \n",
       "79   /title/tt0022100/?pf_rd_m=A2FGELUUNOQJNL&pf_rd...            NaN  1931  \n",
       "82   /title/tt5074352/?pf_rd_m=A2FGELUUNOQJNL&pf_rd...  $310,000,000,  2016  \n",
       "83   /title/tt0986264/?pf_rd_m=A2FGELUUNOQJNL&pf_rd...    $21,897,373  2007  \n",
       "97   /title/tt0040522/?pf_rd_m=A2FGELUUNOQJNL&pf_rd...            NaN  1948  \n",
       "98   /title/tt0012349/?pf_rd_m=A2FGELUUNOQJNL&pf_rd...            NaN  1921  \n",
       "107  /title/tt0053604/?pf_rd_m=A2FGELUUNOQJNL&pf_rd...   $25,000,000,  1960  \n",
       "112  /title/tt0042876/?pf_rd_m=A2FGELUUNOQJNL&pf_rd...            NaN  1950  \n",
       "113  /title/tt8108198/?pf_rd_m=A2FGELUUNOQJNL&pf_rd...            NaN  2018  \n",
       "117  /title/tt0055630/?pf_rd_m=A2FGELUUNOQJNL&pf_rd...            NaN  1961  \n",
       "124  /title/tt0044741/?pf_rd_m=A2FGELUUNOQJNL&pf_rd...            NaN  1952  \n",
       "128  /title/tt0118849/?pf_rd_m=A2FGELUUNOQJNL&pf_rd...            NaN  1997  \n",
       "131  /title/tt0476735/?pf_rd_m=A2FGELUUNOQJNL&pf_rd...            NaN  2005  \n",
       "139  /title/tt0015864/?pf_rd_m=A2FGELUUNOQJNL&pf_rd...            NaN  1925  \n",
       "146  /title/tt0050976/?pf_rd_m=A2FGELUUNOQJNL&pf_rd...            NaN  1957  \n",
       "155  /title/tt0046912/?pf_rd_m=A2FGELUUNOQJNL&pf_rd...   $13,080,000,  1954  \n",
       "156  /title/tt0050986/?pf_rd_m=A2FGELUUNOQJNL&pf_rd...            NaN  1957  \n",
       "157  /title/tt0017925/?pf_rd_m=A2FGELUUNOQJNL&pf_rd...            NaN  1926  \n",
       "168  /title/tt0091251/?pf_rd_m=A2FGELUUNOQJNL&pf_rd...            NaN  1985  \n",
       "169  /title/tt0015324/?pf_rd_m=A2FGELUUNOQJNL&pf_rd...            NaN  1924  \n",
       "174  /title/tt0032976/?pf_rd_m=A2FGELUUNOQJNL&pf_rd...     $7,592,465  1940  \n",
       "175  /title/tt0046438/?pf_rd_m=A2FGELUUNOQJNL&pf_rd...            NaN  1953  \n",
       "176  /title/tt0978762/?pf_rd_m=A2FGELUUNOQJNL&pf_rd...     $1,739,445  2009  \n",
       "180  /title/tt0018455/?pf_rd_m=A2FGELUUNOQJNL&pf_rd...            NaN  1927  \n",
       "191  /title/tt0079944/?pf_rd_m=A2FGELUUNOQJNL&pf_rd...            NaN  1979  \n",
       "192  /title/tt0116231/?pf_rd_m=A2FGELUUNOQJNL&pf_rd...    $1,979,000,  1996  \n",
       "195  /title/tt0060827/?pf_rd_m=A2FGELUUNOQJNL&pf_rd...            NaN  1966  \n",
       "200  /title/tt0060107/?pf_rd_m=A2FGELUUNOQJNL&pf_rd...            NaN  1966  \n",
       "201  /title/tt0046268/?pf_rd_m=A2FGELUUNOQJNL&pf_rd...            NaN  1953  \n",
       "204  /title/tt0019254/?pf_rd_m=A2FGELUUNOQJNL&pf_rd...            NaN  1928  \n",
       "206  /title/tt0053198/?pf_rd_m=A2FGELUUNOQJNL&pf_rd...            NaN  1959  \n",
       "208  /title/tt1028532/?pf_rd_m=A2FGELUUNOQJNL&pf_rd...    $47,707,417  2009  \n",
       "212  /title/tt0405508/?pf_rd_m=A2FGELUUNOQJNL&pf_rd...            NaN  2006  \n",
       "219  /title/tt0072684/?pf_rd_m=A2FGELUUNOQJNL&pf_rd...   $31,500,000,  1975  \n",
       "228  /title/tt0046911/?pf_rd_m=A2FGELUUNOQJNL&pf_rd...            NaN  1955  \n",
       "229  /title/tt0113247/?pf_rd_m=A2FGELUUNOQJNL&pf_rd...            NaN  1995  \n",
       "232  /title/tt0050783/?pf_rd_m=A2FGELUUNOQJNL&pf_rd...            NaN  1957  \n",
       "237  /title/tt0056443/?pf_rd_m=A2FGELUUNOQJNL&pf_rd...            NaN  1962  \n",
       "240  /title/tt4430212/?pf_rd_m=A2FGELUUNOQJNL&pf_rd...            NaN  2015  \n",
       "249  /title/tt0094625/?pf_rd_m=A2FGELUUNOQJNL&pf_rd...    $80,000,000  1988  "
      ]
     },
     "execution_count": 21,
     "metadata": {},
     "output_type": "execute_result"
    }
   ],
   "source": [
    "df[df[\"metacritic_score\"].isna()]"
   ]
  },
  {
   "cell_type": "markdown",
   "metadata": {},
   "source": [
    "### Distribution"
   ]
  },
  {
   "cell_type": "code",
   "execution_count": 22,
   "metadata": {},
   "outputs": [
    {
     "data": {
      "image/png": "[encoded data removed]",
      "text/plain": [
       "<Figure size 576x432 with 2 Axes>"
      ]
     },
     "metadata": {},
     "output_type": "display_data"
    }
   ],
   "source": [
    "plot_histogram(df[\"metacritic_score\"], 25)"
   ]
  },
  {
   "cell_type": "markdown",
   "metadata": {},
   "source": [
    "There is a movie that, despite being in the top 250 IMDb list, has not been well evaluated by the Metacritic reviewers. Let's check it."
   ]
  },
  {
   "cell_type": "code",
   "execution_count": 23,
   "metadata": {},
   "outputs": [
    {
     "data": {
      "text/plain": [
       "Unnamed: 0                                          Bohemian Rhapsody\n",
       "budget                                                    $52,000,000\n",
       "classification                                                  PG-13\n",
       "country                                                     [UK, USA]\n",
       "genre                                       [Biography, Drama, Music]\n",
       "imdb_rating                                                       8.2\n",
       "metacritic_score                                                   49\n",
       "rating_count                                                  175,023\n",
       "runtime                                                           134\n",
       "title                                               Bohemian Rhapsody\n",
       "url                 /title/tt1727824/?pf_rd_m=A2FGELUUNOQJNL&pf_rd...\n",
       "world_gross                                             $433,000,000,\n",
       "year                                                             2018\n",
       "Name: 135, dtype: object"
      ]
     },
     "execution_count": 23,
     "metadata": {},
     "output_type": "execute_result"
    }
   ],
   "source": [
    "df.loc[df[\"metacritic_score\"].idxmin()]"
   ]
  },
  {
   "cell_type": "markdown",
   "metadata": {},
   "source": [
    "It is the very recent movie \"Bohemian Rhapsody\"."
   ]
  },
  {
   "cell_type": "markdown",
   "metadata": {},
   "source": [
    "This divergence between the IMDb and Metacritc ratings suggests an investigation on the relationship between these two features. **Will the relationship be linear, meaning that  movies well evaluated in IMDb are also well evaluated in Metacritic? Or this relationship is not necessarily true?**"
   ]
  },
  {
   "cell_type": "markdown",
   "metadata": {},
   "source": [
    "## Rating Count"
   ]
  },
  {
   "cell_type": "code",
   "execution_count": 24,
   "metadata": {},
   "outputs": [
    {
     "data": {
      "text/plain": [
       "0    2,037,544\n",
       "1    1,397,431\n",
       "2      968,577\n",
       "3    2,005,343\n",
       "4      573,426\n",
       "Name: rating_count, dtype: object"
      ]
     },
     "execution_count": 24,
     "metadata": {},
     "output_type": "execute_result"
    }
   ],
   "source": [
    "df[\"rating_count\"].head()"
   ]
  },
  {
   "cell_type": "markdown",
   "metadata": {},
   "source": [
    "### Missing Values"
   ]
  },
  {
   "cell_type": "code",
   "execution_count": 25,
   "metadata": {},
   "outputs": [
    {
     "data": {
      "text/plain": [
       "0"
      ]
     },
     "execution_count": 25,
     "metadata": {},
     "output_type": "execute_result"
    }
   ],
   "source": [
    "sum(df[\"rating_count\"].isna())"
   ]
  },
  {
   "cell_type": "markdown",
   "metadata": {},
   "source": [
    "No missing values. That's good."
   ]
  },
  {
   "cell_type": "markdown",
   "metadata": {},
   "source": [
    "### Conversion to Integer"
   ]
  },
  {
   "cell_type": "markdown",
   "metadata": {},
   "source": [
    "Let's convert it to integer, but first we need to remove the commas from the *rating_count* values."
   ]
  },
  {
   "cell_type": "code",
   "execution_count": 26,
   "metadata": {},
   "outputs": [],
   "source": [
    "df[\"rating_count\"] = df[\"rating_count\"].str.replace(\",\", \"\")"
   ]
  },
  {
   "cell_type": "code",
   "execution_count": 27,
   "metadata": {},
   "outputs": [
    {
     "data": {
      "text/plain": [
       "0    2037544\n",
       "1    1397431\n",
       "2     968577\n",
       "3    2005343\n",
       "4     573426\n",
       "Name: rating_count, dtype: object"
      ]
     },
     "execution_count": 27,
     "metadata": {},
     "output_type": "execute_result"
    }
   ],
   "source": [
    "df[\"rating_count\"].head()"
   ]
  },
  {
   "cell_type": "markdown",
   "metadata": {},
   "source": [
    "Now it is possible to convert this column to integer."
   ]
  },
  {
   "cell_type": "code",
   "execution_count": 28,
   "metadata": {},
   "outputs": [],
   "source": [
    "df[\"rating_count\"] = df[\"rating_count\"].astype(int)"
   ]
  },
  {
   "cell_type": "code",
   "execution_count": 29,
   "metadata": {},
   "outputs": [
    {
     "data": {
      "text/plain": [
       "0    2037544\n",
       "1    1397431\n",
       "2     968577\n",
       "3    2005343\n",
       "4     573426\n",
       "Name: rating_count, dtype: int64"
      ]
     },
     "execution_count": 29,
     "metadata": {},
     "output_type": "execute_result"
    }
   ],
   "source": [
    "df[\"rating_count\"].head()"
   ]
  },
  {
   "cell_type": "markdown",
   "metadata": {},
   "source": [
    "### Distribution"
   ]
  },
  {
   "cell_type": "code",
   "execution_count": 30,
   "metadata": {},
   "outputs": [
    {
     "data": {
      "image/png": "[encoded data removed]",
      "text/plain": [
       "<Figure size 576x432 with 2 Axes>"
      ]
     },
     "metadata": {},
     "output_type": "display_data"
    }
   ],
   "source": [
    "plot_histogram(df[\"rating_count\"], 20)"
   ]
  },
  {
   "cell_type": "markdown",
   "metadata": {},
   "source": [
    "Let's check the movies with the highest rating counts."
   ]
  },
  {
   "cell_type": "code",
   "execution_count": 31,
   "metadata": {},
   "outputs": [
    {
     "data": {
      "text/html": [
       "<div>\n",
       "<style scoped>\n",
       "    .dataframe tbody tr th:only-of-type {\n",
       "        vertical-align: middle;\n",
       "    }\n",
       "\n",
       "    .dataframe tbody tr th {\n",
       "        vertical-align: top;\n",
       "    }\n",
       "\n",
       "    .dataframe thead th {\n",
       "        text-align: right;\n",
       "    }\n",
       "</style>\n",
       "<table border=\"1\" class=\"dataframe\">\n",
       "  <thead>\n",
       "    <tr style=\"text-align: right;\">\n",
       "      <th></th>\n",
       "      <th>Unnamed: 0</th>\n",
       "      <th>budget</th>\n",
       "      <th>classification</th>\n",
       "      <th>country</th>\n",
       "      <th>genre</th>\n",
       "      <th>imdb_rating</th>\n",
       "      <th>metacritic_score</th>\n",
       "      <th>rating_count</th>\n",
       "      <th>runtime</th>\n",
       "      <th>title</th>\n",
       "      <th>url</th>\n",
       "      <th>world_gross</th>\n",
       "      <th>year</th>\n",
       "    </tr>\n",
       "  </thead>\n",
       "  <tbody>\n",
       "    <tr>\n",
       "      <th>0</th>\n",
       "      <td>The Shawshank Redemption</td>\n",
       "      <td>$25,000,000</td>\n",
       "      <td>R</td>\n",
       "      <td>[USA]</td>\n",
       "      <td>[Drama]</td>\n",
       "      <td>9.2</td>\n",
       "      <td>80.0</td>\n",
       "      <td>2037544</td>\n",
       "      <td>142.0</td>\n",
       "      <td>The Shawshank Redemption</td>\n",
       "      <td>/title/tt0111161/?pf_rd_m=A2FGELUUNOQJNL&amp;pf_rd...</td>\n",
       "      <td>$58,500,000</td>\n",
       "      <td>1994</td>\n",
       "    </tr>\n",
       "    <tr>\n",
       "      <th>3</th>\n",
       "      <td>The Dark Knight</td>\n",
       "      <td>$185,000,000</td>\n",
       "      <td>PG-13</td>\n",
       "      <td>[USA, UK]</td>\n",
       "      <td>[Action, Crime, Drama]</td>\n",
       "      <td>9.0</td>\n",
       "      <td>84.0</td>\n",
       "      <td>2005343</td>\n",
       "      <td>152.0</td>\n",
       "      <td>The Dark Knight</td>\n",
       "      <td>/title/tt0468569/?pf_rd_m=A2FGELUUNOQJNL&amp;pf_rd...</td>\n",
       "      <td>$1,004,558,444,</td>\n",
       "      <td>2008</td>\n",
       "    </tr>\n",
       "    <tr>\n",
       "      <th>13</th>\n",
       "      <td>Inception</td>\n",
       "      <td>$160,000,000</td>\n",
       "      <td>PG-13</td>\n",
       "      <td>[USA, UK]</td>\n",
       "      <td>[Action, Adventure, Sci-Fi]</td>\n",
       "      <td>8.7</td>\n",
       "      <td>74.0</td>\n",
       "      <td>1784861</td>\n",
       "      <td>148.0</td>\n",
       "      <td>Inception</td>\n",
       "      <td>/title/tt1375666/?pf_rd_m=A2FGELUUNOQJNL&amp;pf_rd...</td>\n",
       "      <td>$825,532,764,</td>\n",
       "      <td>2010</td>\n",
       "    </tr>\n",
       "    <tr>\n",
       "      <th>9</th>\n",
       "      <td>Fight Club</td>\n",
       "      <td>$63,000,000</td>\n",
       "      <td>R</td>\n",
       "      <td>[USA, Germany]</td>\n",
       "      <td>[Drama]</td>\n",
       "      <td>8.8</td>\n",
       "      <td>66.0</td>\n",
       "      <td>1630759</td>\n",
       "      <td>139.0</td>\n",
       "      <td>Fight Club</td>\n",
       "      <td>/title/tt0137523/?pf_rd_m=A2FGELUUNOQJNL&amp;pf_rd...</td>\n",
       "      <td>$71,000,000</td>\n",
       "      <td>1999</td>\n",
       "    </tr>\n",
       "    <tr>\n",
       "      <th>7</th>\n",
       "      <td>Pulp Fiction</td>\n",
       "      <td>$8,000,000</td>\n",
       "      <td>R</td>\n",
       "      <td>[USA]</td>\n",
       "      <td>[Crime, Drama]</td>\n",
       "      <td>8.9</td>\n",
       "      <td>94.0</td>\n",
       "      <td>1591713</td>\n",
       "      <td>154.0</td>\n",
       "      <td>Pulp Fiction</td>\n",
       "      <td>/title/tt0110912/?pf_rd_m=A2FGELUUNOQJNL&amp;pf_rd...</td>\n",
       "      <td>$213,928,762</td>\n",
       "      <td>1994</td>\n",
       "    </tr>\n",
       "  </tbody>\n",
       "</table>\n",
       "</div>"
      ],
      "text/plain": [
       "                  Unnamed: 0        budget classification         country  \\\n",
       "0   The Shawshank Redemption   $25,000,000              R           [USA]   \n",
       "3            The Dark Knight  $185,000,000          PG-13       [USA, UK]   \n",
       "13                 Inception  $160,000,000          PG-13       [USA, UK]   \n",
       "9                 Fight Club   $63,000,000              R  [USA, Germany]   \n",
       "7               Pulp Fiction    $8,000,000              R           [USA]   \n",
       "\n",
       "                          genre  imdb_rating  metacritic_score  rating_count  \\\n",
       "0                       [Drama]          9.2              80.0       2037544   \n",
       "3        [Action, Crime, Drama]          9.0              84.0       2005343   \n",
       "13  [Action, Adventure, Sci-Fi]          8.7              74.0       1784861   \n",
       "9                       [Drama]          8.8              66.0       1630759   \n",
       "7                [Crime, Drama]          8.9              94.0       1591713   \n",
       "\n",
       "    runtime                     title  \\\n",
       "0     142.0  The Shawshank Redemption   \n",
       "3     152.0           The Dark Knight   \n",
       "13    148.0                 Inception   \n",
       "9     139.0                Fight Club   \n",
       "7     154.0              Pulp Fiction   \n",
       "\n",
       "                                                  url      world_gross  year  \n",
       "0   /title/tt0111161/?pf_rd_m=A2FGELUUNOQJNL&pf_rd...      $58,500,000  1994  \n",
       "3   /title/tt0468569/?pf_rd_m=A2FGELUUNOQJNL&pf_rd...  $1,004,558,444,  2008  \n",
       "13  /title/tt1375666/?pf_rd_m=A2FGELUUNOQJNL&pf_rd...    $825,532,764,  2010  \n",
       "9   /title/tt0137523/?pf_rd_m=A2FGELUUNOQJNL&pf_rd...      $71,000,000  1999  \n",
       "7   /title/tt0110912/?pf_rd_m=A2FGELUUNOQJNL&pf_rd...     $213,928,762  1994  "
      ]
     },
     "execution_count": 31,
     "metadata": {},
     "output_type": "execute_result"
    }
   ],
   "source": [
    "df.loc[df[\"rating_count\"].sort_values(ascending=False).head(5).index]"
   ]
  },
  {
   "cell_type": "markdown",
   "metadata": {},
   "source": [
    "The best evaluated movie is also the one with highest rating count. The other movies with highest rating counts also present high IMDb rating, being among the 15 best evaluated movies. This fact poses another question: **is there a correlation between the number of ratings a movie receives and the rating itself, meaning that users will be more likely to evaluate movies that they liked?**"
   ]
  },
  {
   "cell_type": "markdown",
   "metadata": {},
   "source": [
    "## Genre"
   ]
  },
  {
   "cell_type": "code",
   "execution_count": 32,
   "metadata": {},
   "outputs": [
    {
     "data": {
      "text/html": [
       "<div>\n",
       "<style scoped>\n",
       "    .dataframe tbody tr th:only-of-type {\n",
       "        vertical-align: middle;\n",
       "    }\n",
       "\n",
       "    .dataframe tbody tr th {\n",
       "        vertical-align: top;\n",
       "    }\n",
       "\n",
       "    .dataframe thead th {\n",
       "        text-align: right;\n",
       "    }\n",
       "</style>\n",
       "<table border=\"1\" class=\"dataframe\">\n",
       "  <thead>\n",
       "    <tr style=\"text-align: right;\">\n",
       "      <th></th>\n",
       "      <th>genre</th>\n",
       "      <th>title</th>\n",
       "    </tr>\n",
       "  </thead>\n",
       "  <tbody>\n",
       "    <tr>\n",
       "      <th>0</th>\n",
       "      <td>[Drama]</td>\n",
       "      <td>The Shawshank Redemption</td>\n",
       "    </tr>\n",
       "    <tr>\n",
       "      <th>1</th>\n",
       "      <td>[Crime, Drama]</td>\n",
       "      <td>The Godfather</td>\n",
       "    </tr>\n",
       "    <tr>\n",
       "      <th>2</th>\n",
       "      <td>[Crime, Drama]</td>\n",
       "      <td>The Godfather: Part II</td>\n",
       "    </tr>\n",
       "    <tr>\n",
       "      <th>3</th>\n",
       "      <td>[Action, Crime, Drama]</td>\n",
       "      <td>The Dark Knight</td>\n",
       "    </tr>\n",
       "    <tr>\n",
       "      <th>4</th>\n",
       "      <td>[Drama]</td>\n",
       "      <td>12 Angry Men</td>\n",
       "    </tr>\n",
       "  </tbody>\n",
       "</table>\n",
       "</div>"
      ],
      "text/plain": [
       "                    genre                     title\n",
       "0                 [Drama]  The Shawshank Redemption\n",
       "1          [Crime, Drama]             The Godfather\n",
       "2          [Crime, Drama]    The Godfather: Part II\n",
       "3  [Action, Crime, Drama]           The Dark Knight\n",
       "4                 [Drama]              12 Angry Men"
      ]
     },
     "execution_count": 32,
     "metadata": {},
     "output_type": "execute_result"
    }
   ],
   "source": [
    "df[[\"genre\", \"title\"]].head()"
   ]
  },
  {
   "cell_type": "markdown",
   "metadata": {},
   "source": [
    "The movies may present multiple genres, as it happens with *The Godfather*."
   ]
  },
  {
   "cell_type": "code",
   "execution_count": 33,
   "metadata": {},
   "outputs": [],
   "source": [
    "genre_counts = df.genre.str.strip(\"[]\").str.split(',\\s+').apply(lambda x: pd.Series(x).value_counts()).sum()"
   ]
  },
  {
   "cell_type": "code",
   "execution_count": 58,
   "metadata": {},
   "outputs": [
    {
     "data": {
      "image/png": "[encoded data removed]",
      "text/plain": [
       "<Figure size 432x288 with 1 Axes>"
      ]
     },
     "metadata": {},
     "output_type": "display_data"
    }
   ],
   "source": [
    "plt.bar(range(len(genre_counts)), genre_counts.values/df.shape[0], tick_label=genre_counts.index, zorder=3)\n",
    "plt.xticks(rotation=\"vertical\")\n",
    "plt.grid(zorder=0)"
   ]
  },
  {
   "cell_type": "markdown",
   "metadata": {},
   "source": [
    "More than 70% of the movies in top 250 IMDb list are Drama movies. This shows that apparently Drama movies have better chances to be higher evaluated by IMDb users. This factor presents an interesting question: **is it possible to predict the likelihood of a movie be well evaluated by IMDb users according to the features presented in our Dataframe?**"
   ]
  },
  {
   "cell_type": "markdown",
   "metadata": {},
   "source": [
    "## Country"
   ]
  },
  {
   "cell_type": "code",
   "execution_count": 35,
   "metadata": {},
   "outputs": [
    {
     "data": {
      "text/html": [
       "<div>\n",
       "<style scoped>\n",
       "    .dataframe tbody tr th:only-of-type {\n",
       "        vertical-align: middle;\n",
       "    }\n",
       "\n",
       "    .dataframe tbody tr th {\n",
       "        vertical-align: top;\n",
       "    }\n",
       "\n",
       "    .dataframe thead th {\n",
       "        text-align: right;\n",
       "    }\n",
       "</style>\n",
       "<table border=\"1\" class=\"dataframe\">\n",
       "  <thead>\n",
       "    <tr style=\"text-align: right;\">\n",
       "      <th></th>\n",
       "      <th>country</th>\n",
       "      <th>title</th>\n",
       "    </tr>\n",
       "  </thead>\n",
       "  <tbody>\n",
       "    <tr>\n",
       "      <th>0</th>\n",
       "      <td>[USA]</td>\n",
       "      <td>The Shawshank Redemption</td>\n",
       "    </tr>\n",
       "    <tr>\n",
       "      <th>1</th>\n",
       "      <td>[USA]</td>\n",
       "      <td>The Godfather</td>\n",
       "    </tr>\n",
       "    <tr>\n",
       "      <th>2</th>\n",
       "      <td>[USA]</td>\n",
       "      <td>The Godfather: Part II</td>\n",
       "    </tr>\n",
       "    <tr>\n",
       "      <th>3</th>\n",
       "      <td>[USA, UK]</td>\n",
       "      <td>The Dark Knight</td>\n",
       "    </tr>\n",
       "    <tr>\n",
       "      <th>4</th>\n",
       "      <td>[USA]</td>\n",
       "      <td>12 Angry Men</td>\n",
       "    </tr>\n",
       "  </tbody>\n",
       "</table>\n",
       "</div>"
      ],
      "text/plain": [
       "     country                     title\n",
       "0      [USA]  The Shawshank Redemption\n",
       "1      [USA]             The Godfather\n",
       "2      [USA]    The Godfather: Part II\n",
       "3  [USA, UK]           The Dark Knight\n",
       "4      [USA]              12 Angry Men"
      ]
     },
     "execution_count": 35,
     "metadata": {},
     "output_type": "execute_result"
    }
   ],
   "source": [
    "df[[\"country\", \"title\"]].head()"
   ]
  },
  {
   "cell_type": "markdown",
   "metadata": {},
   "source": [
    "As with *genre*, some movies may also present multiple countries. *The Dark Knight* is an example."
   ]
  },
  {
   "cell_type": "code",
   "execution_count": 36,
   "metadata": {},
   "outputs": [],
   "source": [
    "country_counts = df.country.str.strip(\"[]\").str.split(',\\s+').apply(lambda x: pd.Series(x).value_counts(normalize=False)).sum()"
   ]
  },
  {
   "cell_type": "code",
   "execution_count": 62,
   "metadata": {},
   "outputs": [
    {
     "data": {
      "image/png": "[encoded data removed]",
      "text/plain": [
       "<Figure size 432x288 with 1 Axes>"
      ]
     },
     "metadata": {},
     "output_type": "display_data"
    }
   ],
   "source": [
    "plt.bar(range(len(country_counts)), country_counts.values/df.shape[0], tick_label=country_counts.index, zorder=3)\n",
    "plt.xticks(rotation=\"vertical\")\n",
    "plt.grid(zorder=0)"
   ]
  },
  {
   "cell_type": "markdown",
   "metadata": {},
   "source": [
    "No surprise here given Hollywood. More than 70% of the movies have USA as the origin country. Following with less than 20% and 10%, we have UK and France respectively."
   ]
  },
  {
   "cell_type": "markdown",
   "metadata": {},
   "source": [
    "## Genre Combinations Heatmap"
   ]
  },
  {
   "cell_type": "markdown",
   "metadata": {},
   "source": [
    "Now we check which genres combinations are more common though a heatmap."
   ]
  },
  {
   "cell_type": "code",
   "execution_count": 53,
   "metadata": {},
   "outputs": [
    {
     "data": {
      "image/png": "[encoded data removed]",
      "text/plain": [
       "<Figure size 936x936 with 2 Axes>"
      ]
     },
     "metadata": {},
     "output_type": "display_data"
    }
   ],
   "source": [
    "plt.figure(figsize=(13, 13))\n",
    "sns.heatmap(combinations_df(df, \"genre\"), annot=True, square=True, cmap=\"YlGnBu\");"
   ]
  },
  {
   "cell_type": "markdown",
   "metadata": {},
   "source": [
    "And the most common genre combination is *Drama* and *Crime* with 41 movies."
   ]
  },
  {
   "cell_type": "markdown",
   "metadata": {},
   "source": [
    "## Country Combination Heatmap"
   ]
  },
  {
   "cell_type": "code",
   "execution_count": 54,
   "metadata": {},
   "outputs": [
    {
     "data": {
      "image/png": "[encoded data removed]",
      "text/plain": [
       "<Figure size 936x936 with 2 Axes>"
      ]
     },
     "metadata": {},
     "output_type": "display_data"
    }
   ],
   "source": [
    "plt.figure(figsize=(13, 13))\n",
    "sns.heatmap(combinations_df(df, \"country\"), annot=True, square=True, cmap=\"YlGnBu\");"
   ]
  },
  {
   "cell_type": "markdown",
   "metadata": {},
   "source": [
    "USA dominate. We also see that combination UK and USA is presented in 33 movies."
   ]
  },
  {
   "cell_type": "markdown",
   "metadata": {},
   "source": [
    "# Answering Questions"
   ]
  },
  {
   "cell_type": "markdown",
   "metadata": {},
   "source": [
    "## Correlation Between IMDb Rating and Metacritic Score"
   ]
  },
  {
   "cell_type": "code",
   "execution_count": 81,
   "metadata": {},
   "outputs": [
    {
     "data": {
      "image/png": "[encoded data removed]",
      "text/plain": [
       "<Figure size 576x432 with 1 Axes>"
      ]
     },
     "metadata": {},
     "output_type": "display_data"
    }
   ],
   "source": [
    "plt.figure(figsize=(8,6))\n",
    "plt.scatter(df[\"imdb_rating\"], df[\"metacritic_score\"], alpha=0.75);"
   ]
  },
  {
   "cell_type": "code",
   "execution_count": 83,
   "metadata": {},
   "outputs": [
    {
     "data": {
      "image/png": "[encoded data removed]",
      "text/plain": [
       "<Figure size 432x288 with 1 Axes>"
      ]
     },
     "metadata": {},
     "output_type": "display_data"
    }
   ],
   "source": [
    "sns.regplot(x=\"imdb_rating\", y=\"metacritic_score\", data=df);"
   ]
  },
  {
   "cell_type": "markdown",
   "metadata": {},
   "source": [
    "## Correlation Between the Number of Ratings and Ratings"
   ]
  },
  {
   "cell_type": "code",
   "execution_count": 79,
   "metadata": {},
   "outputs": [
    {
     "data": {
      "image/png": "[encoded data removed]",
      "text/plain": [
       "<Figure size 576x432 with 1 Axes>"
      ]
     },
     "metadata": {},
     "output_type": "display_data"
    }
   ],
   "source": [
    "plt.figure(figsize=(8,6))\n",
    "plt.scatter(df[\"rating_count\"], df[\"imdb_rating\"], alpha=0.75);"
   ]
  },
  {
   "cell_type": "code",
   "execution_count": 84,
   "metadata": {},
   "outputs": [
    {
     "data": {
      "image/png": "[encoded data removed]",
      "text/plain": [
       "<Figure size 432x288 with 1 Axes>"
      ]
     },
     "metadata": {},
     "output_type": "display_data"
    }
   ],
   "source": [
    "sns.regplot(x=\"rating_count\", y=\"imdb_rating\", data=df);"
   ]
  },
  {
   "cell_type": "code",
   "execution_count": 80,
   "metadata": {},
   "outputs": [
    {
     "data": {
      "image/png": "[encoded data removed]",
      "text/plain": [
       "<Figure size 576x432 with 1 Axes>"
      ]
     },
     "metadata": {},
     "output_type": "display_data"
    }
   ],
   "source": [
    "plt.figure(figsize=(8,6))\n",
    "plt.scatter(df[\"rating_count\"], df[\"metacritic_score\"], alpha=0.75);"
   ]
  },
  {
   "cell_type": "code",
   "execution_count": 85,
   "metadata": {},
   "outputs": [
    {
     "data": {
      "image/png": "[encoded data removed]",
      "text/plain": [
       "<Figure size 432x288 with 1 Axes>"
      ]
     },
     "metadata": {},
     "output_type": "display_data"
    }
   ],
   "source": [
    "sns.regplot(x=\"rating_count\", y=\"metacritic_score\", data=df);"
   ]
  }
 ],
 "metadata": {
  "kernelspec": {
   "display_name": "Python 2",
   "language": "python",
   "name": "python2"
  },
  "language_info": {
   "codemirror_mode": {
    "name": "ipython",
    "version": 3
   },
   "file_extension": ".py",
   "mimetype": "text/x-python",
   "name": "python",
   "nbconvert_exporter": "python",
   "pygments_lexer": "ipython3",
   "version": "3.7.3"
  },
  "toc": {
   "base_numbering": 1,
   "nav_menu": {},
   "number_sections": true,
   "sideBar": true,
   "skip_h1_title": false,
   "title_cell": "Table of Contents",
   "title_sidebar": "Contents",
   "toc_cell": false,
   "toc_position": {},
   "toc_section_display": true,
   "toc_window_display": false
  }
 },
 "nbformat": 4,
 "nbformat_minor": 2
}
